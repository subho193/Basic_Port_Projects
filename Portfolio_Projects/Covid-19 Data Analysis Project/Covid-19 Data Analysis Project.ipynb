{
 "cells": [
  {
   "cell_type": "markdown",
   "id": "939a9d72",
   "metadata": {},
   "source": [
    "### Covid-19-India Dataset"
   ]
  },
  {
   "cell_type": "markdown",
   "id": "6cfa5e43",
   "metadata": {},
   "source": [
    "> ***Here in this Dataset we have daily covid-19 reports. We are going to analyze this dataset with the help of Pandas Dataframe and other tools...***"
   ]
  },
  {
   "cell_type": "code",
   "execution_count": 1,
   "id": "acceebab",
   "metadata": {},
   "outputs": [],
   "source": [
    "### Importing required libraries...\n",
    "import numpy as np\n",
    "import pandas as pd\n",
    "import seaborn as sns\n",
    "import matplotlib.pyplot as plt\n",
    "%matplotlib inline"
   ]
  },
  {
   "cell_type": "code",
   "execution_count": 2,
   "id": "b598bace",
   "metadata": {},
   "outputs": [],
   "source": [
    "### Importing the dataset..\n",
    "df=pd.read_csv('covid_19_india.csv')"
   ]
  },
  {
   "cell_type": "markdown",
   "id": "a65f67f9",
   "metadata": {},
   "source": [
    "### 1. Basic Analysis of the Data"
   ]
  },
  {
   "cell_type": "code",
   "execution_count": 3,
   "id": "b3a3ac6e",
   "metadata": {},
   "outputs": [
    {
     "data": {
      "text/html": [
       "<div>\n",
       "<style scoped>\n",
       "    .dataframe tbody tr th:only-of-type {\n",
       "        vertical-align: middle;\n",
       "    }\n",
       "\n",
       "    .dataframe tbody tr th {\n",
       "        vertical-align: top;\n",
       "    }\n",
       "\n",
       "    .dataframe thead th {\n",
       "        text-align: right;\n",
       "    }\n",
       "</style>\n",
       "<table border=\"1\" class=\"dataframe\">\n",
       "  <thead>\n",
       "    <tr style=\"text-align: right;\">\n",
       "      <th></th>\n",
       "      <th>Sno</th>\n",
       "      <th>Date</th>\n",
       "      <th>Time</th>\n",
       "      <th>State/UnionTerritory</th>\n",
       "      <th>ConfirmedIndianNational</th>\n",
       "      <th>ConfirmedForeignNational</th>\n",
       "      <th>Cured</th>\n",
       "      <th>Deaths</th>\n",
       "      <th>Confirmed</th>\n",
       "    </tr>\n",
       "  </thead>\n",
       "  <tbody>\n",
       "    <tr>\n",
       "      <th>0</th>\n",
       "      <td>1</td>\n",
       "      <td>2020-01-30</td>\n",
       "      <td>6:00 PM</td>\n",
       "      <td>Kerala</td>\n",
       "      <td>1</td>\n",
       "      <td>0</td>\n",
       "      <td>0</td>\n",
       "      <td>0</td>\n",
       "      <td>1</td>\n",
       "    </tr>\n",
       "    <tr>\n",
       "      <th>1</th>\n",
       "      <td>2</td>\n",
       "      <td>2020-01-31</td>\n",
       "      <td>6:00 PM</td>\n",
       "      <td>Kerala</td>\n",
       "      <td>1</td>\n",
       "      <td>0</td>\n",
       "      <td>0</td>\n",
       "      <td>0</td>\n",
       "      <td>1</td>\n",
       "    </tr>\n",
       "    <tr>\n",
       "      <th>2</th>\n",
       "      <td>3</td>\n",
       "      <td>2020-02-01</td>\n",
       "      <td>6:00 PM</td>\n",
       "      <td>Kerala</td>\n",
       "      <td>2</td>\n",
       "      <td>0</td>\n",
       "      <td>0</td>\n",
       "      <td>0</td>\n",
       "      <td>2</td>\n",
       "    </tr>\n",
       "    <tr>\n",
       "      <th>3</th>\n",
       "      <td>4</td>\n",
       "      <td>2020-02-02</td>\n",
       "      <td>6:00 PM</td>\n",
       "      <td>Kerala</td>\n",
       "      <td>3</td>\n",
       "      <td>0</td>\n",
       "      <td>0</td>\n",
       "      <td>0</td>\n",
       "      <td>3</td>\n",
       "    </tr>\n",
       "    <tr>\n",
       "      <th>4</th>\n",
       "      <td>5</td>\n",
       "      <td>2020-02-03</td>\n",
       "      <td>6:00 PM</td>\n",
       "      <td>Kerala</td>\n",
       "      <td>3</td>\n",
       "      <td>0</td>\n",
       "      <td>0</td>\n",
       "      <td>0</td>\n",
       "      <td>3</td>\n",
       "    </tr>\n",
       "  </tbody>\n",
       "</table>\n",
       "</div>"
      ],
      "text/plain": [
       "   Sno        Date     Time State/UnionTerritory ConfirmedIndianNational  \\\n",
       "0    1  2020-01-30  6:00 PM               Kerala                       1   \n",
       "1    2  2020-01-31  6:00 PM               Kerala                       1   \n",
       "2    3  2020-02-01  6:00 PM               Kerala                       2   \n",
       "3    4  2020-02-02  6:00 PM               Kerala                       3   \n",
       "4    5  2020-02-03  6:00 PM               Kerala                       3   \n",
       "\n",
       "  ConfirmedForeignNational  Cured  Deaths  Confirmed  \n",
       "0                        0      0       0          1  \n",
       "1                        0      0       0          1  \n",
       "2                        0      0       0          2  \n",
       "3                        0      0       0          3  \n",
       "4                        0      0       0          3  "
      ]
     },
     "execution_count": 3,
     "metadata": {},
     "output_type": "execute_result"
    }
   ],
   "source": [
    "df.head()"
   ]
  },
  {
   "cell_type": "code",
   "execution_count": 4,
   "id": "cd6fbdb1",
   "metadata": {},
   "outputs": [
    {
     "data": {
      "text/plain": [
       "(18110, 9)"
      ]
     },
     "execution_count": 4,
     "metadata": {},
     "output_type": "execute_result"
    }
   ],
   "source": [
    "df.shape"
   ]
  },
  {
   "cell_type": "code",
   "execution_count": 5,
   "id": "60b568c5",
   "metadata": {},
   "outputs": [
    {
     "name": "stdout",
     "output_type": "stream",
     "text": [
      "<class 'pandas.core.frame.DataFrame'>\n",
      "RangeIndex: 18110 entries, 0 to 18109\n",
      "Data columns (total 9 columns):\n",
      " #   Column                    Non-Null Count  Dtype \n",
      "---  ------                    --------------  ----- \n",
      " 0   Sno                       18110 non-null  int64 \n",
      " 1   Date                      18110 non-null  object\n",
      " 2   Time                      18110 non-null  object\n",
      " 3   State/UnionTerritory      18110 non-null  object\n",
      " 4   ConfirmedIndianNational   18110 non-null  object\n",
      " 5   ConfirmedForeignNational  18110 non-null  object\n",
      " 6   Cured                     18110 non-null  int64 \n",
      " 7   Deaths                    18110 non-null  int64 \n",
      " 8   Confirmed                 18110 non-null  int64 \n",
      "dtypes: int64(4), object(5)\n",
      "memory usage: 1.2+ MB\n"
     ]
    }
   ],
   "source": [
    "df.info()"
   ]
  },
  {
   "cell_type": "code",
   "execution_count": 6,
   "id": "0f450b03",
   "metadata": {},
   "outputs": [
    {
     "data": {
      "text/plain": [
       "Index(['Sno', 'Date', 'Time', 'State/UnionTerritory',\n",
       "       'ConfirmedIndianNational', 'ConfirmedForeignNational', 'Cured',\n",
       "       'Deaths', 'Confirmed'],\n",
       "      dtype='object')"
      ]
     },
     "execution_count": 6,
     "metadata": {},
     "output_type": "execute_result"
    }
   ],
   "source": [
    "df.columns"
   ]
  },
  {
   "cell_type": "code",
   "execution_count": 7,
   "id": "97a627e6",
   "metadata": {},
   "outputs": [
    {
     "data": {
      "text/plain": [
       "RangeIndex(start=0, stop=18110, step=1)"
      ]
     },
     "execution_count": 7,
     "metadata": {},
     "output_type": "execute_result"
    }
   ],
   "source": [
    "df.index"
   ]
  },
  {
   "cell_type": "code",
   "execution_count": 8,
   "id": "a0cb3f2a",
   "metadata": {},
   "outputs": [
    {
     "data": {
      "text/html": [
       "<div>\n",
       "<style scoped>\n",
       "    .dataframe tbody tr th:only-of-type {\n",
       "        vertical-align: middle;\n",
       "    }\n",
       "\n",
       "    .dataframe tbody tr th {\n",
       "        vertical-align: top;\n",
       "    }\n",
       "\n",
       "    .dataframe thead th {\n",
       "        text-align: right;\n",
       "    }\n",
       "</style>\n",
       "<table border=\"1\" class=\"dataframe\">\n",
       "  <thead>\n",
       "    <tr style=\"text-align: right;\">\n",
       "      <th></th>\n",
       "      <th>Sno</th>\n",
       "      <th>Cured</th>\n",
       "      <th>Deaths</th>\n",
       "      <th>Confirmed</th>\n",
       "    </tr>\n",
       "  </thead>\n",
       "  <tbody>\n",
       "    <tr>\n",
       "      <th>count</th>\n",
       "      <td>18110.000000</td>\n",
       "      <td>1.811000e+04</td>\n",
       "      <td>18110.000000</td>\n",
       "      <td>1.811000e+04</td>\n",
       "    </tr>\n",
       "    <tr>\n",
       "      <th>mean</th>\n",
       "      <td>9055.500000</td>\n",
       "      <td>2.786375e+05</td>\n",
       "      <td>4052.402264</td>\n",
       "      <td>3.010314e+05</td>\n",
       "    </tr>\n",
       "    <tr>\n",
       "      <th>std</th>\n",
       "      <td>5228.051023</td>\n",
       "      <td>6.148909e+05</td>\n",
       "      <td>10919.076411</td>\n",
       "      <td>6.561489e+05</td>\n",
       "    </tr>\n",
       "    <tr>\n",
       "      <th>min</th>\n",
       "      <td>1.000000</td>\n",
       "      <td>0.000000e+00</td>\n",
       "      <td>0.000000</td>\n",
       "      <td>0.000000e+00</td>\n",
       "    </tr>\n",
       "    <tr>\n",
       "      <th>25%</th>\n",
       "      <td>4528.250000</td>\n",
       "      <td>3.360250e+03</td>\n",
       "      <td>32.000000</td>\n",
       "      <td>4.376750e+03</td>\n",
       "    </tr>\n",
       "    <tr>\n",
       "      <th>50%</th>\n",
       "      <td>9055.500000</td>\n",
       "      <td>3.336400e+04</td>\n",
       "      <td>588.000000</td>\n",
       "      <td>3.977350e+04</td>\n",
       "    </tr>\n",
       "    <tr>\n",
       "      <th>75%</th>\n",
       "      <td>13582.750000</td>\n",
       "      <td>2.788698e+05</td>\n",
       "      <td>3643.750000</td>\n",
       "      <td>3.001498e+05</td>\n",
       "    </tr>\n",
       "    <tr>\n",
       "      <th>max</th>\n",
       "      <td>18110.000000</td>\n",
       "      <td>6.159676e+06</td>\n",
       "      <td>134201.000000</td>\n",
       "      <td>6.363442e+06</td>\n",
       "    </tr>\n",
       "  </tbody>\n",
       "</table>\n",
       "</div>"
      ],
      "text/plain": [
       "                Sno         Cured         Deaths     Confirmed\n",
       "count  18110.000000  1.811000e+04   18110.000000  1.811000e+04\n",
       "mean    9055.500000  2.786375e+05    4052.402264  3.010314e+05\n",
       "std     5228.051023  6.148909e+05   10919.076411  6.561489e+05\n",
       "min        1.000000  0.000000e+00       0.000000  0.000000e+00\n",
       "25%     4528.250000  3.360250e+03      32.000000  4.376750e+03\n",
       "50%     9055.500000  3.336400e+04     588.000000  3.977350e+04\n",
       "75%    13582.750000  2.788698e+05    3643.750000  3.001498e+05\n",
       "max    18110.000000  6.159676e+06  134201.000000  6.363442e+06"
      ]
     },
     "execution_count": 8,
     "metadata": {},
     "output_type": "execute_result"
    }
   ],
   "source": [
    "df.describe()"
   ]
  },
  {
   "cell_type": "code",
   "execution_count": 9,
   "id": "fc3f7ec0",
   "metadata": {},
   "outputs": [
    {
     "data": {
      "text/plain": [
       "Sno                         0\n",
       "Date                        0\n",
       "Time                        0\n",
       "State/UnionTerritory        0\n",
       "ConfirmedIndianNational     0\n",
       "ConfirmedForeignNational    0\n",
       "Cured                       0\n",
       "Deaths                      0\n",
       "Confirmed                   0\n",
       "dtype: int64"
      ]
     },
     "execution_count": 9,
     "metadata": {},
     "output_type": "execute_result"
    }
   ],
   "source": [
    "###Checking Null Values in the Dataset..\n",
    "df.isnull().sum()"
   ]
  },
  {
   "cell_type": "code",
   "execution_count": 10,
   "id": "c7d191d0",
   "metadata": {},
   "outputs": [
    {
     "data": {
      "text/plain": [
       "<AxesSubplot:>"
      ]
     },
     "execution_count": 10,
     "metadata": {},
     "output_type": "execute_result"
    },
    {
     "data": {
      "image/png": "[encoded data removed]",
      "text/plain": [
       "<Figure size 360x360 with 2 Axes>"
      ]
     },
     "metadata": {
      "needs_background": "light"
     },
     "output_type": "display_data"
    }
   ],
   "source": [
    "plt.figure(figsize=(5,5))\n",
    "sns.heatmap(df.isnull())\n",
    "### We do not have any missing values in our data.."
   ]
  },
  {
   "cell_type": "markdown",
   "id": "139dde55",
   "metadata": {},
   "source": [
    "### 2. Feature Engineering and Data Cleaning\n",
    "\n",
    "> Here we try to clean the messy data by manupulating our data set using different techniques.."
   ]
  },
  {
   "cell_type": "code",
   "execution_count": 11,
   "id": "f7f47924",
   "metadata": {},
   "outputs": [
    {
     "data": {
      "text/html": [
       "<div>\n",
       "<style scoped>\n",
       "    .dataframe tbody tr th:only-of-type {\n",
       "        vertical-align: middle;\n",
       "    }\n",
       "\n",
       "    .dataframe tbody tr th {\n",
       "        vertical-align: top;\n",
       "    }\n",
       "\n",
       "    .dataframe thead th {\n",
       "        text-align: right;\n",
       "    }\n",
       "</style>\n",
       "<table border=\"1\" class=\"dataframe\">\n",
       "  <thead>\n",
       "    <tr style=\"text-align: right;\">\n",
       "      <th></th>\n",
       "      <th>Sno</th>\n",
       "      <th>Date</th>\n",
       "      <th>Time</th>\n",
       "      <th>State/UnionTerritory</th>\n",
       "      <th>ConfirmedIndianNational</th>\n",
       "      <th>ConfirmedForeignNational</th>\n",
       "      <th>Cured</th>\n",
       "      <th>Deaths</th>\n",
       "      <th>Confirmed</th>\n",
       "    </tr>\n",
       "  </thead>\n",
       "  <tbody>\n",
       "    <tr>\n",
       "      <th>0</th>\n",
       "      <td>1</td>\n",
       "      <td>2020-01-30</td>\n",
       "      <td>6:00 PM</td>\n",
       "      <td>Kerala</td>\n",
       "      <td>1</td>\n",
       "      <td>0</td>\n",
       "      <td>0</td>\n",
       "      <td>0</td>\n",
       "      <td>1</td>\n",
       "    </tr>\n",
       "    <tr>\n",
       "      <th>1</th>\n",
       "      <td>2</td>\n",
       "      <td>2020-01-31</td>\n",
       "      <td>6:00 PM</td>\n",
       "      <td>Kerala</td>\n",
       "      <td>1</td>\n",
       "      <td>0</td>\n",
       "      <td>0</td>\n",
       "      <td>0</td>\n",
       "      <td>1</td>\n",
       "    </tr>\n",
       "    <tr>\n",
       "      <th>2</th>\n",
       "      <td>3</td>\n",
       "      <td>2020-02-01</td>\n",
       "      <td>6:00 PM</td>\n",
       "      <td>Kerala</td>\n",
       "      <td>2</td>\n",
       "      <td>0</td>\n",
       "      <td>0</td>\n",
       "      <td>0</td>\n",
       "      <td>2</td>\n",
       "    </tr>\n",
       "    <tr>\n",
       "      <th>3</th>\n",
       "      <td>4</td>\n",
       "      <td>2020-02-02</td>\n",
       "      <td>6:00 PM</td>\n",
       "      <td>Kerala</td>\n",
       "      <td>3</td>\n",
       "      <td>0</td>\n",
       "      <td>0</td>\n",
       "      <td>0</td>\n",
       "      <td>3</td>\n",
       "    </tr>\n",
       "    <tr>\n",
       "      <th>4</th>\n",
       "      <td>5</td>\n",
       "      <td>2020-02-03</td>\n",
       "      <td>6:00 PM</td>\n",
       "      <td>Kerala</td>\n",
       "      <td>3</td>\n",
       "      <td>0</td>\n",
       "      <td>0</td>\n",
       "      <td>0</td>\n",
       "      <td>3</td>\n",
       "    </tr>\n",
       "  </tbody>\n",
       "</table>\n",
       "</div>"
      ],
      "text/plain": [
       "   Sno        Date     Time State/UnionTerritory ConfirmedIndianNational  \\\n",
       "0    1  2020-01-30  6:00 PM               Kerala                       1   \n",
       "1    2  2020-01-31  6:00 PM               Kerala                       1   \n",
       "2    3  2020-02-01  6:00 PM               Kerala                       2   \n",
       "3    4  2020-02-02  6:00 PM               Kerala                       3   \n",
       "4    5  2020-02-03  6:00 PM               Kerala                       3   \n",
       "\n",
       "  ConfirmedForeignNational  Cured  Deaths  Confirmed  \n",
       "0                        0      0       0          1  \n",
       "1                        0      0       0          1  \n",
       "2                        0      0       0          2  \n",
       "3                        0      0       0          3  \n",
       "4                        0      0       0          3  "
      ]
     },
     "execution_count": 11,
     "metadata": {},
     "output_type": "execute_result"
    }
   ],
   "source": [
    "df.head()"
   ]
  },
  {
   "cell_type": "code",
   "execution_count": 12,
   "id": "745f9555",
   "metadata": {},
   "outputs": [
    {
     "data": {
      "text/plain": [
       "18110"
      ]
     },
     "execution_count": 12,
     "metadata": {},
     "output_type": "execute_result"
    }
   ],
   "source": [
    "df['Sno'].nunique()"
   ]
  },
  {
   "cell_type": "code",
   "execution_count": 13,
   "id": "8b002cc9",
   "metadata": {},
   "outputs": [],
   "source": [
    "### We have Serial Number column which can work as the index but we will drop this column for our calculation..\n",
    "df.drop(columns=['Sno'],axis=1,inplace=True)"
   ]
  },
  {
   "cell_type": "code",
   "execution_count": 14,
   "id": "2ef827e5",
   "metadata": {},
   "outputs": [
    {
     "data": {
      "text/html": [
       "<div>\n",
       "<style scoped>\n",
       "    .dataframe tbody tr th:only-of-type {\n",
       "        vertical-align: middle;\n",
       "    }\n",
       "\n",
       "    .dataframe tbody tr th {\n",
       "        vertical-align: top;\n",
       "    }\n",
       "\n",
       "    .dataframe thead th {\n",
       "        text-align: right;\n",
       "    }\n",
       "</style>\n",
       "<table border=\"1\" class=\"dataframe\">\n",
       "  <thead>\n",
       "    <tr style=\"text-align: right;\">\n",
       "      <th></th>\n",
       "      <th>Date</th>\n",
       "      <th>Time</th>\n",
       "      <th>State/UnionTerritory</th>\n",
       "      <th>ConfirmedIndianNational</th>\n",
       "      <th>ConfirmedForeignNational</th>\n",
       "      <th>Cured</th>\n",
       "      <th>Deaths</th>\n",
       "      <th>Confirmed</th>\n",
       "    </tr>\n",
       "  </thead>\n",
       "  <tbody>\n",
       "    <tr>\n",
       "      <th>0</th>\n",
       "      <td>2020-01-30</td>\n",
       "      <td>6:00 PM</td>\n",
       "      <td>Kerala</td>\n",
       "      <td>1</td>\n",
       "      <td>0</td>\n",
       "      <td>0</td>\n",
       "      <td>0</td>\n",
       "      <td>1</td>\n",
       "    </tr>\n",
       "  </tbody>\n",
       "</table>\n",
       "</div>"
      ],
      "text/plain": [
       "         Date     Time State/UnionTerritory ConfirmedIndianNational  \\\n",
       "0  2020-01-30  6:00 PM               Kerala                       1   \n",
       "\n",
       "  ConfirmedForeignNational  Cured  Deaths  Confirmed  \n",
       "0                        0      0       0          1  "
      ]
     },
     "execution_count": 14,
     "metadata": {},
     "output_type": "execute_result"
    }
   ],
   "source": [
    "df.head(1)"
   ]
  },
  {
   "cell_type": "code",
   "execution_count": 15,
   "id": "3170ebc2",
   "metadata": {},
   "outputs": [
    {
     "data": {
      "text/plain": [
       "str"
      ]
     },
     "execution_count": 15,
     "metadata": {},
     "output_type": "execute_result"
    }
   ],
   "source": [
    "type(df['Date'][0])\n",
    "### Date column is object type need to convert it into datetime object so that date-time function can be applied.."
   ]
  },
  {
   "cell_type": "code",
   "execution_count": 16,
   "id": "ef9b2903",
   "metadata": {},
   "outputs": [],
   "source": [
    "df['Date']=pd.to_datetime(df['Date'])"
   ]
  },
  {
   "cell_type": "code",
   "execution_count": 17,
   "id": "7a83faaf",
   "metadata": {},
   "outputs": [
    {
     "data": {
      "text/plain": [
       "pandas._libs.tslibs.timestamps.Timestamp"
      ]
     },
     "execution_count": 17,
     "metadata": {},
     "output_type": "execute_result"
    }
   ],
   "source": [
    "type(df['Date'][0])"
   ]
  },
  {
   "cell_type": "code",
   "execution_count": 18,
   "id": "145ef745",
   "metadata": {},
   "outputs": [
    {
     "data": {
      "text/plain": [
       "2020"
      ]
     },
     "execution_count": 18,
     "metadata": {},
     "output_type": "execute_result"
    }
   ],
   "source": [
    "df['Date'][33].year"
   ]
  },
  {
   "cell_type": "code",
   "execution_count": 19,
   "id": "22fe791f",
   "metadata": {},
   "outputs": [
    {
     "data": {
      "text/plain": [
       "3"
      ]
     },
     "execution_count": 19,
     "metadata": {},
     "output_type": "execute_result"
    }
   ],
   "source": [
    "df['Date'][33].month"
   ]
  },
  {
   "cell_type": "code",
   "execution_count": 20,
   "id": "a33b0534",
   "metadata": {},
   "outputs": [
    {
     "data": {
      "text/plain": [
       "'March'"
      ]
     },
     "execution_count": 20,
     "metadata": {},
     "output_type": "execute_result"
    }
   ],
   "source": [
    "df['Date'][33].month_name()"
   ]
  },
  {
   "cell_type": "code",
   "execution_count": 21,
   "id": "44d1986a",
   "metadata": {},
   "outputs": [
    {
     "data": {
      "text/plain": [
       "2"
      ]
     },
     "execution_count": 21,
     "metadata": {},
     "output_type": "execute_result"
    }
   ],
   "source": [
    "df['Date'][33].day"
   ]
  },
  {
   "cell_type": "code",
   "execution_count": 22,
   "id": "05b5f064",
   "metadata": {},
   "outputs": [
    {
     "data": {
      "text/plain": [
       "'Monday'"
      ]
     },
     "execution_count": 22,
     "metadata": {},
     "output_type": "execute_result"
    }
   ],
   "source": [
    "df['Date'][33].day_name()"
   ]
  },
  {
   "cell_type": "code",
   "execution_count": 23,
   "id": "e84db1f8",
   "metadata": {},
   "outputs": [
    {
     "data": {
      "text/plain": [
       "10"
      ]
     },
     "execution_count": 23,
     "metadata": {},
     "output_type": "execute_result"
    }
   ],
   "source": [
    "df['Date'][33].week"
   ]
  },
  {
   "cell_type": "code",
   "execution_count": 24,
   "id": "e3d82a96",
   "metadata": {},
   "outputs": [
    {
     "data": {
      "text/plain": [
       "0"
      ]
     },
     "execution_count": 24,
     "metadata": {},
     "output_type": "execute_result"
    }
   ],
   "source": [
    "df['Date'][33].weekday()"
   ]
  },
  {
   "cell_type": "code",
   "execution_count": 25,
   "id": "cbb8e5fb",
   "metadata": {},
   "outputs": [
    {
     "data": {
      "text/plain": [
       "6"
      ]
     },
     "execution_count": 25,
     "metadata": {},
     "output_type": "execute_result"
    }
   ],
   "source": [
    "df['Date'][24].weekday()"
   ]
  },
  {
   "cell_type": "code",
   "execution_count": 26,
   "id": "4f96d0ff",
   "metadata": {},
   "outputs": [
    {
     "data": {
      "text/plain": [
       "0               Kerala\n",
       "1               Kerala\n",
       "2               Kerala\n",
       "3               Kerala\n",
       "4               Kerala\n",
       "             ...      \n",
       "18105        Telangana\n",
       "18106          Tripura\n",
       "18107      Uttarakhand\n",
       "18108    Uttar Pradesh\n",
       "18109      West Bengal\n",
       "Name: State/UnionTerritory, Length: 18110, dtype: object"
      ]
     },
     "execution_count": 26,
     "metadata": {},
     "output_type": "execute_result"
    }
   ],
   "source": [
    "df['State/UnionTerritory']### Let's change the name of this column for convenience.."
   ]
  },
  {
   "cell_type": "code",
   "execution_count": 27,
   "id": "e7fee685",
   "metadata": {},
   "outputs": [],
   "source": [
    "df.rename(columns={'State/UnionTerritory':'ST/UT'},inplace=True)"
   ]
  },
  {
   "cell_type": "code",
   "execution_count": 28,
   "id": "66bbd06a",
   "metadata": {},
   "outputs": [
    {
     "data": {
      "text/html": [
       "<div>\n",
       "<style scoped>\n",
       "    .dataframe tbody tr th:only-of-type {\n",
       "        vertical-align: middle;\n",
       "    }\n",
       "\n",
       "    .dataframe tbody tr th {\n",
       "        vertical-align: top;\n",
       "    }\n",
       "\n",
       "    .dataframe thead th {\n",
       "        text-align: right;\n",
       "    }\n",
       "</style>\n",
       "<table border=\"1\" class=\"dataframe\">\n",
       "  <thead>\n",
       "    <tr style=\"text-align: right;\">\n",
       "      <th></th>\n",
       "      <th>Date</th>\n",
       "      <th>Time</th>\n",
       "      <th>ST/UT</th>\n",
       "      <th>ConfirmedIndianNational</th>\n",
       "      <th>ConfirmedForeignNational</th>\n",
       "      <th>Cured</th>\n",
       "      <th>Deaths</th>\n",
       "      <th>Confirmed</th>\n",
       "    </tr>\n",
       "  </thead>\n",
       "  <tbody>\n",
       "    <tr>\n",
       "      <th>0</th>\n",
       "      <td>2020-01-30</td>\n",
       "      <td>6:00 PM</td>\n",
       "      <td>Kerala</td>\n",
       "      <td>1</td>\n",
       "      <td>0</td>\n",
       "      <td>0</td>\n",
       "      <td>0</td>\n",
       "      <td>1</td>\n",
       "    </tr>\n",
       "  </tbody>\n",
       "</table>\n",
       "</div>"
      ],
      "text/plain": [
       "        Date     Time   ST/UT ConfirmedIndianNational  \\\n",
       "0 2020-01-30  6:00 PM  Kerala                       1   \n",
       "\n",
       "  ConfirmedForeignNational  Cured  Deaths  Confirmed  \n",
       "0                        0      0       0          1  "
      ]
     },
     "execution_count": 28,
     "metadata": {},
     "output_type": "execute_result"
    }
   ],
   "source": [
    "df.head(1)"
   ]
  },
  {
   "cell_type": "code",
   "execution_count": 29,
   "id": "9d33ad9e",
   "metadata": {},
   "outputs": [
    {
     "data": {
      "text/plain": [
       "Kerala                                      560\n",
       "Delhi                                       528\n",
       "Rajasthan                                   527\n",
       "Uttar Pradesh                               526\n",
       "Haryana                                     526\n",
       "Ladakh                                      523\n",
       "Tamil Nadu                                  523\n",
       "Punjab                                      521\n",
       "Jammu and Kashmir                           521\n",
       "Maharashtra                                 520\n",
       "Karnataka                                   520\n",
       "Andhra Pradesh                              518\n",
       "Uttarakhand                                 515\n",
       "Odisha                                      514\n",
       "Puducherry                                  512\n",
       "West Bengal                                 512\n",
       "Chhattisgarh                                511\n",
       "Chandigarh                                  511\n",
       "Gujarat                                     510\n",
       "Himachal Pradesh                            508\n",
       "Madhya Pradesh                              508\n",
       "Bihar                                       506\n",
       "Manipur                                     506\n",
       "Mizoram                                     505\n",
       "Andaman and Nicobar Islands                 504\n",
       "Goa                                         504\n",
       "Assam                                       498\n",
       "Jharkhand                                   498\n",
       "Arunachal Pradesh                           496\n",
       "Tripura                                     492\n",
       "Meghalaya                                   485\n",
       "Dadra and Nagar Haveli and Daman and Diu    461\n",
       "Nagaland                                    452\n",
       "Sikkim                                      445\n",
       "Telengana                                   426\n",
       "Lakshadweep                                 244\n",
       "Telangana                                   102\n",
       "Cases being reassigned to states             60\n",
       "Unassigned                                    3\n",
       "Dadra and Nagar Haveli                        2\n",
       "Bihar****                                     2\n",
       "Daman & Diu                                   1\n",
       "Madhya Pradesh***                             1\n",
       "Himanchal Pradesh                             1\n",
       "Karanataka                                    1\n",
       "Maharashtra***                                1\n",
       "Name: ST/UT, dtype: int64"
      ]
     },
     "execution_count": 29,
     "metadata": {},
     "output_type": "execute_result"
    }
   ],
   "source": [
    "df['ST/UT'].value_counts()"
   ]
  },
  {
   "cell_type": "code",
   "execution_count": 30,
   "id": "432df0f5",
   "metadata": {},
   "outputs": [
    {
     "data": {
      "text/plain": [
       "Kerala                                      560\n",
       "Delhi                                       528\n",
       "Rajasthan                                   527\n",
       "Uttar Pradesh                               526\n",
       "Haryana                                     526\n",
       "Ladakh                                      523\n",
       "Tamil Nadu                                  523\n",
       "Punjab                                      521\n",
       "Jammu and Kashmir                           521\n",
       "Maharashtra                                 520\n",
       "Karnataka                                   520\n",
       "Andhra Pradesh                              518\n",
       "Uttarakhand                                 515\n",
       "Odisha                                      514\n",
       "Puducherry                                  512\n",
       "West Bengal                                 512\n",
       "Chhattisgarh                                511\n",
       "Chandigarh                                  511\n",
       "Gujarat                                     510\n",
       "Himachal Pradesh                            508\n",
       "Madhya Pradesh                              508\n",
       "Bihar                                       506\n",
       "Manipur                                     506\n",
       "Mizoram                                     505\n",
       "Andaman and Nicobar Islands                 504\n",
       "Goa                                         504\n",
       "Assam                                       498\n",
       "Jharkhand                                   498\n",
       "Arunachal Pradesh                           496\n",
       "Tripura                                     492\n",
       "Meghalaya                                   485\n",
       "Dadra and Nagar Haveli and Daman and Diu    461\n",
       "Nagaland                                    452\n",
       "Sikkim                                      445\n",
       "Telengana                                   426\n",
       "Lakshadweep                                 244\n",
       "Telangana                                   102\n",
       "Name: ST/UT, dtype: int64"
      ]
     },
     "execution_count": 30,
     "metadata": {},
     "output_type": "execute_result"
    }
   ],
   "source": [
    "### We will not consider those state/UT categories where the total number of observations is less than 10 for our calculation..\n",
    "df['ST/UT'].value_counts()[df['ST/UT'].value_counts()>100]"
   ]
  },
  {
   "cell_type": "code",
   "execution_count": 31,
   "id": "5a04c0e4",
   "metadata": {},
   "outputs": [
    {
     "data": {
      "text/plain": [
       "Index(['Kerala', 'Delhi', 'Rajasthan', 'Uttar Pradesh', 'Haryana', 'Ladakh',\n",
       "       'Tamil Nadu', 'Punjab', 'Jammu and Kashmir', 'Maharashtra', 'Karnataka',\n",
       "       'Andhra Pradesh', 'Uttarakhand', 'Odisha', 'Puducherry', 'West Bengal',\n",
       "       'Chhattisgarh', 'Chandigarh', 'Gujarat', 'Himachal Pradesh',\n",
       "       'Madhya Pradesh', 'Bihar', 'Manipur', 'Mizoram',\n",
       "       'Andaman and Nicobar Islands', 'Goa', 'Assam', 'Jharkhand',\n",
       "       'Arunachal Pradesh', 'Tripura', 'Meghalaya',\n",
       "       'Dadra and Nagar Haveli and Daman and Diu', 'Nagaland', 'Sikkim',\n",
       "       'Telengana', 'Lakshadweep', 'Telangana'],\n",
       "      dtype='object')"
      ]
     },
     "execution_count": 31,
     "metadata": {},
     "output_type": "execute_result"
    }
   ],
   "source": [
    "df['ST/UT'].value_counts()[df['ST/UT'].value_counts()>100].index"
   ]
  },
  {
   "cell_type": "code",
   "execution_count": 32,
   "id": "05b06800",
   "metadata": {},
   "outputs": [],
   "source": [
    "statesanduts=['Kerala', 'Delhi', 'Rajasthan', 'Uttar Pradesh', 'Haryana', 'Ladakh',\n",
    "       'Tamil Nadu', 'Punjab', 'Jammu and Kashmir', 'Maharashtra', 'Karnataka',\n",
    "       'Andhra Pradesh', 'Uttarakhand', 'Odisha', 'Puducherry', 'West Bengal',\n",
    "       'Chhattisgarh', 'Chandigarh', 'Gujarat', 'Himachal Pradesh',\n",
    "       'Madhya Pradesh', 'Bihar', 'Manipur', 'Mizoram',\n",
    "       'Andaman and Nicobar Islands', 'Goa', 'Assam', 'Jharkhand',\n",
    "       'Arunachal Pradesh', 'Tripura', 'Meghalaya',\n",
    "       'Dadra and Nagar Haveli and Daman and Diu', 'Nagaland', 'Sikkim',\n",
    "       'Telengana', 'Lakshadweep', 'Telangana']"
   ]
  },
  {
   "cell_type": "code",
   "execution_count": 33,
   "id": "e39ba2c5",
   "metadata": {},
   "outputs": [
    {
     "data": {
      "text/plain": [
       "37"
      ]
     },
     "execution_count": 33,
     "metadata": {},
     "output_type": "execute_result"
    }
   ],
   "source": [
    "len(statesanduts)"
   ]
  },
  {
   "cell_type": "code",
   "execution_count": 34,
   "id": "ef2ff8c8",
   "metadata": {},
   "outputs": [],
   "source": [
    "ndf=df[df['ST/UT'].isin(statesanduts)]"
   ]
  },
  {
   "cell_type": "code",
   "execution_count": 35,
   "id": "4610b2c7",
   "metadata": {},
   "outputs": [
    {
     "data": {
      "text/html": [
       "<div>\n",
       "<style scoped>\n",
       "    .dataframe tbody tr th:only-of-type {\n",
       "        vertical-align: middle;\n",
       "    }\n",
       "\n",
       "    .dataframe tbody tr th {\n",
       "        vertical-align: top;\n",
       "    }\n",
       "\n",
       "    .dataframe thead th {\n",
       "        text-align: right;\n",
       "    }\n",
       "</style>\n",
       "<table border=\"1\" class=\"dataframe\">\n",
       "  <thead>\n",
       "    <tr style=\"text-align: right;\">\n",
       "      <th></th>\n",
       "      <th>Date</th>\n",
       "      <th>Time</th>\n",
       "      <th>ST/UT</th>\n",
       "      <th>ConfirmedIndianNational</th>\n",
       "      <th>ConfirmedForeignNational</th>\n",
       "      <th>Cured</th>\n",
       "      <th>Deaths</th>\n",
       "      <th>Confirmed</th>\n",
       "    </tr>\n",
       "  </thead>\n",
       "  <tbody>\n",
       "    <tr>\n",
       "      <th>0</th>\n",
       "      <td>2020-01-30</td>\n",
       "      <td>6:00 PM</td>\n",
       "      <td>Kerala</td>\n",
       "      <td>1</td>\n",
       "      <td>0</td>\n",
       "      <td>0</td>\n",
       "      <td>0</td>\n",
       "      <td>1</td>\n",
       "    </tr>\n",
       "    <tr>\n",
       "      <th>1</th>\n",
       "      <td>2020-01-31</td>\n",
       "      <td>6:00 PM</td>\n",
       "      <td>Kerala</td>\n",
       "      <td>1</td>\n",
       "      <td>0</td>\n",
       "      <td>0</td>\n",
       "      <td>0</td>\n",
       "      <td>1</td>\n",
       "    </tr>\n",
       "    <tr>\n",
       "      <th>2</th>\n",
       "      <td>2020-02-01</td>\n",
       "      <td>6:00 PM</td>\n",
       "      <td>Kerala</td>\n",
       "      <td>2</td>\n",
       "      <td>0</td>\n",
       "      <td>0</td>\n",
       "      <td>0</td>\n",
       "      <td>2</td>\n",
       "    </tr>\n",
       "    <tr>\n",
       "      <th>3</th>\n",
       "      <td>2020-02-02</td>\n",
       "      <td>6:00 PM</td>\n",
       "      <td>Kerala</td>\n",
       "      <td>3</td>\n",
       "      <td>0</td>\n",
       "      <td>0</td>\n",
       "      <td>0</td>\n",
       "      <td>3</td>\n",
       "    </tr>\n",
       "    <tr>\n",
       "      <th>4</th>\n",
       "      <td>2020-02-03</td>\n",
       "      <td>6:00 PM</td>\n",
       "      <td>Kerala</td>\n",
       "      <td>3</td>\n",
       "      <td>0</td>\n",
       "      <td>0</td>\n",
       "      <td>0</td>\n",
       "      <td>3</td>\n",
       "    </tr>\n",
       "  </tbody>\n",
       "</table>\n",
       "</div>"
      ],
      "text/plain": [
       "        Date     Time   ST/UT ConfirmedIndianNational  \\\n",
       "0 2020-01-30  6:00 PM  Kerala                       1   \n",
       "1 2020-01-31  6:00 PM  Kerala                       1   \n",
       "2 2020-02-01  6:00 PM  Kerala                       2   \n",
       "3 2020-02-02  6:00 PM  Kerala                       3   \n",
       "4 2020-02-03  6:00 PM  Kerala                       3   \n",
       "\n",
       "  ConfirmedForeignNational  Cured  Deaths  Confirmed  \n",
       "0                        0      0       0          1  \n",
       "1                        0      0       0          1  \n",
       "2                        0      0       0          2  \n",
       "3                        0      0       0          3  \n",
       "4                        0      0       0          3  "
      ]
     },
     "execution_count": 35,
     "metadata": {},
     "output_type": "execute_result"
    }
   ],
   "source": [
    "ndf.head()"
   ]
  },
  {
   "cell_type": "markdown",
   "id": "1a441c97",
   "metadata": {},
   "source": [
    "### 3. Exploratory Data Analysis(EDA) \n",
    "> This is an approach to analyze the data visually through different types of plots and graphs.."
   ]
  },
  {
   "cell_type": "code",
   "execution_count": 36,
   "id": "7e2c54f7",
   "metadata": {},
   "outputs": [
    {
     "data": {
      "text/plain": [
       "<AxesSubplot:xlabel='ST/UT'>"
      ]
     },
     "execution_count": 36,
     "metadata": {},
     "output_type": "execute_result"
    },
    {
     "data": {
      "image/png": "[encoded data removed]",
      "text/plain": [
       "<Figure size 864x576 with 1 Axes>"
      ]
     },
     "metadata": {},
     "output_type": "display_data"
    }
   ],
   "source": [
    "sns.set_style('darkgrid')\n",
    "plt.figure(figsize=(12,8))\n",
    "ndf.groupby(by='ST/UT').sum()['Confirmed'].plot(kind='bar')"
   ]
  },
  {
   "cell_type": "code",
   "execution_count": 37,
   "id": "fd01b95f",
   "metadata": {},
   "outputs": [
    {
     "data": {
      "text/plain": [
       "<AxesSubplot:xlabel='ST/UT'>"
      ]
     },
     "execution_count": 37,
     "metadata": {},
     "output_type": "execute_result"
    },
    {
     "data": {
      "image/png": "[encoded data removed]",
      "text/plain": [
       "<Figure size 864x576 with 1 Axes>"
      ]
     },
     "metadata": {},
     "output_type": "display_data"
    }
   ],
   "source": [
    "plt.figure(figsize=(12,8))\n",
    "ndf.groupby(by='ST/UT').sum()['Cured'].plot(kind='bar')"
   ]
  },
  {
   "cell_type": "code",
   "execution_count": 38,
   "id": "4d29a55d",
   "metadata": {},
   "outputs": [
    {
     "data": {
      "text/plain": [
       "<AxesSubplot:xlabel='ST/UT'>"
      ]
     },
     "execution_count": 38,
     "metadata": {},
     "output_type": "execute_result"
    },
    {
     "data": {
      "image/png": "[encoded data removed]",
      "text/plain": [
       "<Figure size 864x576 with 1 Axes>"
      ]
     },
     "metadata": {},
     "output_type": "display_data"
    }
   ],
   "source": [
    "plt.figure(figsize=(12,8))\n",
    "ndf.groupby(by='ST/UT').sum()['Deaths'].plot(kind='bar')"
   ]
  },
  {
   "cell_type": "code",
   "execution_count": 39,
   "id": "34605f7d",
   "metadata": {},
   "outputs": [
    {
     "data": {
      "text/plain": [
       "[<matplotlib.lines.Line2D at 0x2a12d624100>]"
      ]
     },
     "execution_count": 39,
     "metadata": {},
     "output_type": "execute_result"
    },
    {
     "data": {
      "image/png": "[encoded data removed]",
      "text/plain": [
       "<Figure size 864x432 with 1 Axes>"
      ]
     },
     "metadata": {},
     "output_type": "display_data"
    }
   ],
   "source": [
    "plt.figure(figsize=(12,6))\n",
    "plt.plot(ndf['Date'],ndf['Deaths'])"
   ]
  },
  {
   "cell_type": "code",
   "execution_count": 40,
   "id": "64ee839b",
   "metadata": {},
   "outputs": [
    {
     "data": {
      "text/plain": [
       "[<matplotlib.lines.Line2D at 0x2a12de31040>]"
      ]
     },
     "execution_count": 40,
     "metadata": {},
     "output_type": "execute_result"
    },
    {
     "data": {
      "image/png": "[encoded data removed]",
      "text/plain": [
       "<Figure size 864x432 with 1 Axes>"
      ]
     },
     "metadata": {},
     "output_type": "display_data"
    }
   ],
   "source": [
    "plt.figure(figsize=(12,6))\n",
    "plt.plot(ndf['Date'],ndf['Confirmed'])"
   ]
  },
  {
   "cell_type": "code",
   "execution_count": 41,
   "id": "19fbcb50",
   "metadata": {},
   "outputs": [
    {
     "data": {
      "text/plain": [
       "[<matplotlib.lines.Line2D at 0x2a12dcf4370>]"
      ]
     },
     "execution_count": 41,
     "metadata": {},
     "output_type": "execute_result"
    },
    {
     "data": {
      "image/png": "[encoded data removed]",
      "text/plain": [
       "<Figure size 864x432 with 1 Axes>"
      ]
     },
     "metadata": {},
     "output_type": "display_data"
    }
   ],
   "source": [
    "plt.figure(figsize=(12,6))\n",
    "plt.plot(ndf['Date'],ndf['Cured'])"
   ]
  },
  {
   "cell_type": "code",
   "execution_count": 42,
   "id": "87a93870",
   "metadata": {},
   "outputs": [
    {
     "data": {
      "text/html": [
       "<div>\n",
       "<style scoped>\n",
       "    .dataframe tbody tr th:only-of-type {\n",
       "        vertical-align: middle;\n",
       "    }\n",
       "\n",
       "    .dataframe tbody tr th {\n",
       "        vertical-align: top;\n",
       "    }\n",
       "\n",
       "    .dataframe thead th {\n",
       "        text-align: right;\n",
       "    }\n",
       "</style>\n",
       "<table border=\"1\" class=\"dataframe\">\n",
       "  <thead>\n",
       "    <tr style=\"text-align: right;\">\n",
       "      <th></th>\n",
       "      <th>Confirmed</th>\n",
       "      <th>Deaths</th>\n",
       "      <th>Cured</th>\n",
       "    </tr>\n",
       "    <tr>\n",
       "      <th>ST/UT</th>\n",
       "      <th></th>\n",
       "      <th></th>\n",
       "      <th></th>\n",
       "    </tr>\n",
       "  </thead>\n",
       "  <tbody>\n",
       "    <tr>\n",
       "      <th>Maharashtra</th>\n",
       "      <td>1121491467</td>\n",
       "      <td>23737432</td>\n",
       "      <td>1018765039</td>\n",
       "    </tr>\n",
       "    <tr>\n",
       "      <th>Karnataka</th>\n",
       "      <td>485970693</td>\n",
       "      <td>6053762</td>\n",
       "      <td>441844360</td>\n",
       "    </tr>\n",
       "    <tr>\n",
       "      <th>Kerala</th>\n",
       "      <td>458906023</td>\n",
       "      <td>1888177</td>\n",
       "      <td>420174235</td>\n",
       "    </tr>\n",
       "    <tr>\n",
       "      <th>Tamil Nadu</th>\n",
       "      <td>431928644</td>\n",
       "      <td>5916658</td>\n",
       "      <td>404095807</td>\n",
       "    </tr>\n",
       "    <tr>\n",
       "      <th>Andhra Pradesh</th>\n",
       "      <td>392432753</td>\n",
       "      <td>2939367</td>\n",
       "      <td>370426530</td>\n",
       "    </tr>\n",
       "    <tr>\n",
       "      <th>Uttar Pradesh</th>\n",
       "      <td>312625843</td>\n",
       "      <td>4143450</td>\n",
       "      <td>291479351</td>\n",
       "    </tr>\n",
       "    <tr>\n",
       "      <th>Delhi</th>\n",
       "      <td>287227765</td>\n",
       "      <td>4943294</td>\n",
       "      <td>273419887</td>\n",
       "    </tr>\n",
       "    <tr>\n",
       "      <th>West Bengal</th>\n",
       "      <td>263107876</td>\n",
       "      <td>3846989</td>\n",
       "      <td>247515102</td>\n",
       "    </tr>\n",
       "    <tr>\n",
       "      <th>Chhattisgarh</th>\n",
       "      <td>163776262</td>\n",
       "      <td>2063920</td>\n",
       "      <td>151609364</td>\n",
       "    </tr>\n",
       "    <tr>\n",
       "      <th>Rajasthan</th>\n",
       "      <td>162369656</td>\n",
       "      <td>1473089</td>\n",
       "      <td>150356820</td>\n",
       "    </tr>\n",
       "  </tbody>\n",
       "</table>\n",
       "</div>"
      ],
      "text/plain": [
       "                 Confirmed    Deaths       Cured\n",
       "ST/UT                                           \n",
       "Maharashtra     1121491467  23737432  1018765039\n",
       "Karnataka        485970693   6053762   441844360\n",
       "Kerala           458906023   1888177   420174235\n",
       "Tamil Nadu       431928644   5916658   404095807\n",
       "Andhra Pradesh   392432753   2939367   370426530\n",
       "Uttar Pradesh    312625843   4143450   291479351\n",
       "Delhi            287227765   4943294   273419887\n",
       "West Bengal      263107876   3846989   247515102\n",
       "Chhattisgarh     163776262   2063920   151609364\n",
       "Rajasthan        162369656   1473089   150356820"
      ]
     },
     "execution_count": 42,
     "metadata": {},
     "output_type": "execute_result"
    }
   ],
   "source": [
    "ndf.groupby(by='ST/UT')[['Confirmed','Deaths','Cured']].sum().sort_values(by='Confirmed',ascending=False)[:10]"
   ]
  },
  {
   "cell_type": "code",
   "execution_count": 43,
   "id": "8927cd7c",
   "metadata": {},
   "outputs": [
    {
     "data": {
      "text/plain": [
       "ST/UT\n",
       "Maharashtra    1121491467\n",
       "Name: Confirmed, dtype: int64"
      ]
     },
     "execution_count": 43,
     "metadata": {},
     "output_type": "execute_result"
    }
   ],
   "source": [
    "ndf.groupby('ST/UT').sum()['Confirmed'].sort_values(ascending=False)[:1]"
   ]
  },
  {
   "cell_type": "code",
   "execution_count": 44,
   "id": "947585fb",
   "metadata": {},
   "outputs": [
    {
     "data": {
      "text/plain": [
       "ST/UT\n",
       "Lakshadweep    915784\n",
       "Name: Confirmed, dtype: int64"
      ]
     },
     "execution_count": 44,
     "metadata": {},
     "output_type": "execute_result"
    }
   ],
   "source": [
    "ndf.groupby('ST/UT').sum()['Confirmed'].sort_values(ascending=False)[-1:]"
   ]
  },
  {
   "cell_type": "code",
   "execution_count": 45,
   "id": "47d26051",
   "metadata": {},
   "outputs": [
    {
     "data": {
      "text/plain": [
       "ST/UT\n",
       "Maharashtra    1018765039\n",
       "Name: Cured, dtype: int64"
      ]
     },
     "execution_count": 45,
     "metadata": {},
     "output_type": "execute_result"
    }
   ],
   "source": [
    "ndf.groupby('ST/UT').sum()['Cured'].sort_values(ascending=False)[:1]"
   ]
  },
  {
   "cell_type": "code",
   "execution_count": 46,
   "id": "bbd9f7dc",
   "metadata": {},
   "outputs": [
    {
     "data": {
      "text/plain": [
       "ST/UT\n",
       "Lakshadweep    820925\n",
       "Name: Cured, dtype: int64"
      ]
     },
     "execution_count": 46,
     "metadata": {},
     "output_type": "execute_result"
    }
   ],
   "source": [
    "ndf.groupby('ST/UT').sum()['Cured'].sort_values(ascending=False)[-1:]"
   ]
  },
  {
   "cell_type": "code",
   "execution_count": 47,
   "id": "886ba645",
   "metadata": {},
   "outputs": [
    {
     "data": {
      "text/plain": [
       "ST/UT\n",
       "Maharashtra    23737432\n",
       "Name: Deaths, dtype: int64"
      ]
     },
     "execution_count": 47,
     "metadata": {},
     "output_type": "execute_result"
    }
   ],
   "source": [
    "ndf.groupby('ST/UT').sum()['Deaths'].sort_values(ascending=False)[:1]"
   ]
  },
  {
   "cell_type": "code",
   "execution_count": 48,
   "id": "edd70a84",
   "metadata": {},
   "outputs": [
    {
     "data": {
      "text/plain": [
       "ST/UT\n",
       "Dadra and Nagar Haveli and Daman and Diu    1014\n",
       "Name: Deaths, dtype: int64"
      ]
     },
     "execution_count": 48,
     "metadata": {},
     "output_type": "execute_result"
    }
   ],
   "source": [
    "ndf.groupby('ST/UT').sum()['Deaths'].sort_values(ascending=False)[-1:]"
   ]
  },
  {
   "cell_type": "code",
   "execution_count": 49,
   "id": "cc420e00",
   "metadata": {},
   "outputs": [
    {
     "data": {
      "text/html": [
       "<div>\n",
       "<style scoped>\n",
       "    .dataframe tbody tr th:only-of-type {\n",
       "        vertical-align: middle;\n",
       "    }\n",
       "\n",
       "    .dataframe tbody tr th {\n",
       "        vertical-align: top;\n",
       "    }\n",
       "\n",
       "    .dataframe thead th {\n",
       "        text-align: right;\n",
       "    }\n",
       "</style>\n",
       "<table border=\"1\" class=\"dataframe\">\n",
       "  <thead>\n",
       "    <tr style=\"text-align: right;\">\n",
       "      <th></th>\n",
       "      <th>Date</th>\n",
       "      <th>Time</th>\n",
       "      <th>ST/UT</th>\n",
       "      <th>ConfirmedIndianNational</th>\n",
       "      <th>ConfirmedForeignNational</th>\n",
       "      <th>Cured</th>\n",
       "      <th>Deaths</th>\n",
       "      <th>Confirmed</th>\n",
       "    </tr>\n",
       "  </thead>\n",
       "  <tbody>\n",
       "    <tr>\n",
       "      <th>18094</th>\n",
       "      <td>2021-08-11</td>\n",
       "      <td>8:00 AM</td>\n",
       "      <td>Maharashtra</td>\n",
       "      <td>-</td>\n",
       "      <td>-</td>\n",
       "      <td>6159676</td>\n",
       "      <td>134201</td>\n",
       "      <td>6363442</td>\n",
       "    </tr>\n",
       "  </tbody>\n",
       "</table>\n",
       "</div>"
      ],
      "text/plain": [
       "            Date     Time        ST/UT ConfirmedIndianNational  \\\n",
       "18094 2021-08-11  8:00 AM  Maharashtra                       -   \n",
       "\n",
       "      ConfirmedForeignNational    Cured  Deaths  Confirmed  \n",
       "18094                        -  6159676  134201    6363442  "
      ]
     },
     "execution_count": 49,
     "metadata": {},
     "output_type": "execute_result"
    }
   ],
   "source": [
    "ndf[ndf['Deaths']==ndf['Deaths'].max()]"
   ]
  },
  {
   "cell_type": "code",
   "execution_count": 50,
   "id": "0cc1e1d0",
   "metadata": {},
   "outputs": [],
   "source": [
    "wb_data=ndf[ndf['ST/UT']=='West Bengal']"
   ]
  },
  {
   "cell_type": "code",
   "execution_count": 51,
   "id": "af7dfb18",
   "metadata": {},
   "outputs": [
    {
     "data": {
      "text/html": [
       "<div>\n",
       "<style scoped>\n",
       "    .dataframe tbody tr th:only-of-type {\n",
       "        vertical-align: middle;\n",
       "    }\n",
       "\n",
       "    .dataframe tbody tr th {\n",
       "        vertical-align: top;\n",
       "    }\n",
       "\n",
       "    .dataframe thead th {\n",
       "        text-align: right;\n",
       "    }\n",
       "</style>\n",
       "<table border=\"1\" class=\"dataframe\">\n",
       "  <thead>\n",
       "    <tr style=\"text-align: right;\">\n",
       "      <th></th>\n",
       "      <th>Date</th>\n",
       "      <th>Time</th>\n",
       "      <th>ST/UT</th>\n",
       "      <th>ConfirmedIndianNational</th>\n",
       "      <th>ConfirmedForeignNational</th>\n",
       "      <th>Cured</th>\n",
       "      <th>Deaths</th>\n",
       "      <th>Confirmed</th>\n",
       "    </tr>\n",
       "  </thead>\n",
       "  <tbody>\n",
       "    <tr>\n",
       "      <th>18109</th>\n",
       "      <td>2021-08-11</td>\n",
       "      <td>8:00 AM</td>\n",
       "      <td>West Bengal</td>\n",
       "      <td>-</td>\n",
       "      <td>-</td>\n",
       "      <td>1506532</td>\n",
       "      <td>18252</td>\n",
       "      <td>1534999</td>\n",
       "    </tr>\n",
       "  </tbody>\n",
       "</table>\n",
       "</div>"
      ],
      "text/plain": [
       "            Date     Time        ST/UT ConfirmedIndianNational  \\\n",
       "18109 2021-08-11  8:00 AM  West Bengal                       -   \n",
       "\n",
       "      ConfirmedForeignNational    Cured  Deaths  Confirmed  \n",
       "18109                        -  1506532   18252    1534999  "
      ]
     },
     "execution_count": 51,
     "metadata": {},
     "output_type": "execute_result"
    }
   ],
   "source": [
    "wb_data[wb_data['Deaths']==wb_data['Deaths'].max()]"
   ]
  },
  {
   "cell_type": "code",
   "execution_count": 52,
   "id": "d1a0a8b6",
   "metadata": {},
   "outputs": [
    {
     "data": {
      "text/plain": [
       "[<matplotlib.lines.Line2D at 0x2a12dcc6040>]"
      ]
     },
     "execution_count": 52,
     "metadata": {},
     "output_type": "execute_result"
    },
    {
     "data": {
      "image/png": "[encoded data removed]",
      "text/plain": [
       "<Figure size 864x432 with 1 Axes>"
      ]
     },
     "metadata": {},
     "output_type": "display_data"
    }
   ],
   "source": [
    "plt.figure(figsize=(12,6))\n",
    "plt.plot(wb_data['Date'],wb_data['Cured'])"
   ]
  },
  {
   "cell_type": "markdown",
   "id": "02c1cecc",
   "metadata": {},
   "source": [
    "### Conclusion and Observations :\n",
    "\n",
    " 1. We do not have any missing values in our dataset.\n",
    " 2. We had Serial Number column which could work as the index but we have dropped this column for our calculation..\n",
    " 3. Date column was object type and we converted it into datetime object so that date-time function can be applied..\n",
    " 4. We have changed the state name column to ST/UT for our convenience.\n",
    " 5. We have not considered those state/UT categories where the total number of observations is less than 10 for our calculation..\n",
    " 6. In terms of highes number of confirmed cases, deaths and cured cases Maharastra stands at the top.\n",
    " 7. We have observed that as the day have passed the total number of cases has increases drastically. From November 2020 to March 2021 there was no alarming spike in the total number of cases but after March 2021 the number of cases have increased dramatically.\n",
    " 8. In Lakshadweep the total number of confirmed cases is least.\n",
    " 9. In Dadra and Nagar Haveli and Daman and Diu the total number of Deaths is least. \n"
   ]
  },
  {
   "cell_type": "markdown",
   "id": "e27d696b",
   "metadata": {},
   "source": [
    "***1. Let's Remove all the records where Confirmed cases is less than 10..***"
   ]
  },
  {
   "cell_type": "code",
   "execution_count": 53,
   "id": "70a172f7",
   "metadata": {},
   "outputs": [
    {
     "data": {
      "text/html": [
       "<div>\n",
       "<style scoped>\n",
       "    .dataframe tbody tr th:only-of-type {\n",
       "        vertical-align: middle;\n",
       "    }\n",
       "\n",
       "    .dataframe tbody tr th {\n",
       "        vertical-align: top;\n",
       "    }\n",
       "\n",
       "    .dataframe thead th {\n",
       "        text-align: right;\n",
       "    }\n",
       "</style>\n",
       "<table border=\"1\" class=\"dataframe\">\n",
       "  <thead>\n",
       "    <tr style=\"text-align: right;\">\n",
       "      <th></th>\n",
       "      <th>Date</th>\n",
       "      <th>Time</th>\n",
       "      <th>ST/UT</th>\n",
       "      <th>ConfirmedIndianNational</th>\n",
       "      <th>ConfirmedForeignNational</th>\n",
       "      <th>Cured</th>\n",
       "      <th>Deaths</th>\n",
       "      <th>Confirmed</th>\n",
       "    </tr>\n",
       "  </thead>\n",
       "  <tbody>\n",
       "    <tr>\n",
       "      <th>44</th>\n",
       "      <td>2020-03-04</td>\n",
       "      <td>6:00 PM</td>\n",
       "      <td>Rajasthan</td>\n",
       "      <td>1</td>\n",
       "      <td>14</td>\n",
       "      <td>0</td>\n",
       "      <td>0</td>\n",
       "      <td>15</td>\n",
       "    </tr>\n",
       "    <tr>\n",
       "      <th>48</th>\n",
       "      <td>2020-03-05</td>\n",
       "      <td>6:00 PM</td>\n",
       "      <td>Rajasthan</td>\n",
       "      <td>1</td>\n",
       "      <td>14</td>\n",
       "      <td>0</td>\n",
       "      <td>0</td>\n",
       "      <td>15</td>\n",
       "    </tr>\n",
       "    <tr>\n",
       "      <th>54</th>\n",
       "      <td>2020-03-06</td>\n",
       "      <td>6:00 PM</td>\n",
       "      <td>Rajasthan</td>\n",
       "      <td>1</td>\n",
       "      <td>14</td>\n",
       "      <td>0</td>\n",
       "      <td>0</td>\n",
       "      <td>15</td>\n",
       "    </tr>\n",
       "    <tr>\n",
       "      <th>64</th>\n",
       "      <td>2020-03-07</td>\n",
       "      <td>6:00 PM</td>\n",
       "      <td>Rajasthan</td>\n",
       "      <td>1</td>\n",
       "      <td>14</td>\n",
       "      <td>0</td>\n",
       "      <td>0</td>\n",
       "      <td>15</td>\n",
       "    </tr>\n",
       "    <tr>\n",
       "      <th>68</th>\n",
       "      <td>2020-03-08</td>\n",
       "      <td>6:00 PM</td>\n",
       "      <td>Rajasthan</td>\n",
       "      <td>1</td>\n",
       "      <td>14</td>\n",
       "      <td>0</td>\n",
       "      <td>0</td>\n",
       "      <td>15</td>\n",
       "    </tr>\n",
       "    <tr>\n",
       "      <th>...</th>\n",
       "      <td>...</td>\n",
       "      <td>...</td>\n",
       "      <td>...</td>\n",
       "      <td>...</td>\n",
       "      <td>...</td>\n",
       "      <td>...</td>\n",
       "      <td>...</td>\n",
       "      <td>...</td>\n",
       "    </tr>\n",
       "    <tr>\n",
       "      <th>18105</th>\n",
       "      <td>2021-08-11</td>\n",
       "      <td>8:00 AM</td>\n",
       "      <td>Telangana</td>\n",
       "      <td>-</td>\n",
       "      <td>-</td>\n",
       "      <td>638410</td>\n",
       "      <td>3831</td>\n",
       "      <td>650353</td>\n",
       "    </tr>\n",
       "    <tr>\n",
       "      <th>18106</th>\n",
       "      <td>2021-08-11</td>\n",
       "      <td>8:00 AM</td>\n",
       "      <td>Tripura</td>\n",
       "      <td>-</td>\n",
       "      <td>-</td>\n",
       "      <td>77811</td>\n",
       "      <td>773</td>\n",
       "      <td>80660</td>\n",
       "    </tr>\n",
       "    <tr>\n",
       "      <th>18107</th>\n",
       "      <td>2021-08-11</td>\n",
       "      <td>8:00 AM</td>\n",
       "      <td>Uttarakhand</td>\n",
       "      <td>-</td>\n",
       "      <td>-</td>\n",
       "      <td>334650</td>\n",
       "      <td>7368</td>\n",
       "      <td>342462</td>\n",
       "    </tr>\n",
       "    <tr>\n",
       "      <th>18108</th>\n",
       "      <td>2021-08-11</td>\n",
       "      <td>8:00 AM</td>\n",
       "      <td>Uttar Pradesh</td>\n",
       "      <td>-</td>\n",
       "      <td>-</td>\n",
       "      <td>1685492</td>\n",
       "      <td>22775</td>\n",
       "      <td>1708812</td>\n",
       "    </tr>\n",
       "    <tr>\n",
       "      <th>18109</th>\n",
       "      <td>2021-08-11</td>\n",
       "      <td>8:00 AM</td>\n",
       "      <td>West Bengal</td>\n",
       "      <td>-</td>\n",
       "      <td>-</td>\n",
       "      <td>1506532</td>\n",
       "      <td>18252</td>\n",
       "      <td>1534999</td>\n",
       "    </tr>\n",
       "  </tbody>\n",
       "</table>\n",
       "<p>17312 rows × 8 columns</p>\n",
       "</div>"
      ],
      "text/plain": [
       "            Date     Time          ST/UT ConfirmedIndianNational  \\\n",
       "44    2020-03-04  6:00 PM      Rajasthan                       1   \n",
       "48    2020-03-05  6:00 PM      Rajasthan                       1   \n",
       "54    2020-03-06  6:00 PM      Rajasthan                       1   \n",
       "64    2020-03-07  6:00 PM      Rajasthan                       1   \n",
       "68    2020-03-08  6:00 PM      Rajasthan                       1   \n",
       "...          ...      ...            ...                     ...   \n",
       "18105 2021-08-11  8:00 AM      Telangana                       -   \n",
       "18106 2021-08-11  8:00 AM        Tripura                       -   \n",
       "18107 2021-08-11  8:00 AM    Uttarakhand                       -   \n",
       "18108 2021-08-11  8:00 AM  Uttar Pradesh                       -   \n",
       "18109 2021-08-11  8:00 AM    West Bengal                       -   \n",
       "\n",
       "      ConfirmedForeignNational    Cured  Deaths  Confirmed  \n",
       "44                          14        0       0         15  \n",
       "48                          14        0       0         15  \n",
       "54                          14        0       0         15  \n",
       "64                          14        0       0         15  \n",
       "68                          14        0       0         15  \n",
       "...                        ...      ...     ...        ...  \n",
       "18105                        -   638410    3831     650353  \n",
       "18106                        -    77811     773      80660  \n",
       "18107                        -   334650    7368     342462  \n",
       "18108                        -  1685492   22775    1708812  \n",
       "18109                        -  1506532   18252    1534999  \n",
       "\n",
       "[17312 rows x 8 columns]"
      ]
     },
     "execution_count": 53,
     "metadata": {},
     "output_type": "execute_result"
    }
   ],
   "source": [
    "ndf[~(ndf['Confirmed']<10)]"
   ]
  },
  {
   "cell_type": "markdown",
   "id": "f3eba4d2",
   "metadata": {},
   "source": [
    "***2. In which Region maximum number of Confirmed cases were recorded?***"
   ]
  },
  {
   "cell_type": "code",
   "execution_count": 54,
   "id": "638ceac0",
   "metadata": {},
   "outputs": [
    {
     "data": {
      "text/plain": [
       "ST/UT\n",
       "Maharashtra    1121491467\n",
       "Name: Confirmed, dtype: int64"
      ]
     },
     "execution_count": 54,
     "metadata": {},
     "output_type": "execute_result"
    }
   ],
   "source": [
    "ndf.groupby(by='ST/UT').sum()['Confirmed'].sort_values(ascending=False)[:1]"
   ]
  },
  {
   "cell_type": "markdown",
   "id": "c9c43497",
   "metadata": {},
   "source": [
    "***3. In which Region minimum number of Death cases were recorded?***"
   ]
  },
  {
   "cell_type": "code",
   "execution_count": 55,
   "id": "f56e7037",
   "metadata": {},
   "outputs": [
    {
     "data": {
      "text/plain": [
       "ST/UT\n",
       "Dadra and Nagar Haveli and Daman and Diu    1014\n",
       "Name: Deaths, dtype: int64"
      ]
     },
     "execution_count": 55,
     "metadata": {},
     "output_type": "execute_result"
    }
   ],
   "source": [
    "ndf.groupby(by='ST/UT').sum()['Deaths'].sort_values(ascending=True)[:1]"
   ]
  },
  {
   "cell_type": "markdown",
   "id": "59162d7c",
   "metadata": {},
   "source": [
    "***4. How many Confirmed ,Deaths and Recovered cases were reported between 23rd April 2021 to 7th March 2021?***"
   ]
  },
  {
   "cell_type": "code",
   "execution_count": 56,
   "id": "f06ea955",
   "metadata": {},
   "outputs": [],
   "source": [
    "pdf=ndf.copy()"
   ]
  },
  {
   "cell_type": "code",
   "execution_count": 57,
   "id": "b46f382c",
   "metadata": {},
   "outputs": [],
   "source": [
    "pdf.set_index(pdf['Date'],inplace=True)"
   ]
  },
  {
   "cell_type": "code",
   "execution_count": 58,
   "id": "8ad7ad9b",
   "metadata": {},
   "outputs": [
    {
     "data": {
      "text/html": [
       "<div>\n",
       "<style scoped>\n",
       "    .dataframe tbody tr th:only-of-type {\n",
       "        vertical-align: middle;\n",
       "    }\n",
       "\n",
       "    .dataframe tbody tr th {\n",
       "        vertical-align: top;\n",
       "    }\n",
       "\n",
       "    .dataframe thead th {\n",
       "        text-align: right;\n",
       "    }\n",
       "</style>\n",
       "<table border=\"1\" class=\"dataframe\">\n",
       "  <thead>\n",
       "    <tr style=\"text-align: right;\">\n",
       "      <th></th>\n",
       "      <th>Date</th>\n",
       "      <th>Time</th>\n",
       "      <th>ST/UT</th>\n",
       "      <th>ConfirmedIndianNational</th>\n",
       "      <th>ConfirmedForeignNational</th>\n",
       "      <th>Cured</th>\n",
       "      <th>Deaths</th>\n",
       "      <th>Confirmed</th>\n",
       "    </tr>\n",
       "    <tr>\n",
       "      <th>Date</th>\n",
       "      <th></th>\n",
       "      <th></th>\n",
       "      <th></th>\n",
       "      <th></th>\n",
       "      <th></th>\n",
       "      <th></th>\n",
       "      <th></th>\n",
       "      <th></th>\n",
       "    </tr>\n",
       "  </thead>\n",
       "  <tbody>\n",
       "    <tr>\n",
       "      <th>2020-01-30</th>\n",
       "      <td>2020-01-30</td>\n",
       "      <td>6:00 PM</td>\n",
       "      <td>Kerala</td>\n",
       "      <td>1</td>\n",
       "      <td>0</td>\n",
       "      <td>0</td>\n",
       "      <td>0</td>\n",
       "      <td>1</td>\n",
       "    </tr>\n",
       "    <tr>\n",
       "      <th>2020-01-31</th>\n",
       "      <td>2020-01-31</td>\n",
       "      <td>6:00 PM</td>\n",
       "      <td>Kerala</td>\n",
       "      <td>1</td>\n",
       "      <td>0</td>\n",
       "      <td>0</td>\n",
       "      <td>0</td>\n",
       "      <td>1</td>\n",
       "    </tr>\n",
       "  </tbody>\n",
       "</table>\n",
       "</div>"
      ],
      "text/plain": [
       "                 Date     Time   ST/UT ConfirmedIndianNational  \\\n",
       "Date                                                             \n",
       "2020-01-30 2020-01-30  6:00 PM  Kerala                       1   \n",
       "2020-01-31 2020-01-31  6:00 PM  Kerala                       1   \n",
       "\n",
       "           ConfirmedForeignNational  Cured  Deaths  Confirmed  \n",
       "Date                                                           \n",
       "2020-01-30                        0      0       0          1  \n",
       "2020-01-31                        0      0       0          1  "
      ]
     },
     "execution_count": 58,
     "metadata": {},
     "output_type": "execute_result"
    }
   ],
   "source": [
    "pdf.head(2)"
   ]
  },
  {
   "cell_type": "code",
   "execution_count": 59,
   "id": "2404ffbc",
   "metadata": {},
   "outputs": [],
   "source": [
    "pdf.drop(columns=['Date'],axis=1,inplace=True)"
   ]
  },
  {
   "cell_type": "code",
   "execution_count": 60,
   "id": "4c3a3103",
   "metadata": {},
   "outputs": [
    {
     "data": {
      "text/html": [
       "<div>\n",
       "<style scoped>\n",
       "    .dataframe tbody tr th:only-of-type {\n",
       "        vertical-align: middle;\n",
       "    }\n",
       "\n",
       "    .dataframe tbody tr th {\n",
       "        vertical-align: top;\n",
       "    }\n",
       "\n",
       "    .dataframe thead th {\n",
       "        text-align: right;\n",
       "    }\n",
       "</style>\n",
       "<table border=\"1\" class=\"dataframe\">\n",
       "  <thead>\n",
       "    <tr style=\"text-align: right;\">\n",
       "      <th></th>\n",
       "      <th>Time</th>\n",
       "      <th>ST/UT</th>\n",
       "      <th>ConfirmedIndianNational</th>\n",
       "      <th>ConfirmedForeignNational</th>\n",
       "      <th>Cured</th>\n",
       "      <th>Deaths</th>\n",
       "      <th>Confirmed</th>\n",
       "    </tr>\n",
       "    <tr>\n",
       "      <th>Date</th>\n",
       "      <th></th>\n",
       "      <th></th>\n",
       "      <th></th>\n",
       "      <th></th>\n",
       "      <th></th>\n",
       "      <th></th>\n",
       "      <th></th>\n",
       "    </tr>\n",
       "  </thead>\n",
       "  <tbody>\n",
       "    <tr>\n",
       "      <th>2020-01-30</th>\n",
       "      <td>6:00 PM</td>\n",
       "      <td>Kerala</td>\n",
       "      <td>1</td>\n",
       "      <td>0</td>\n",
       "      <td>0</td>\n",
       "      <td>0</td>\n",
       "      <td>1</td>\n",
       "    </tr>\n",
       "    <tr>\n",
       "      <th>2020-01-31</th>\n",
       "      <td>6:00 PM</td>\n",
       "      <td>Kerala</td>\n",
       "      <td>1</td>\n",
       "      <td>0</td>\n",
       "      <td>0</td>\n",
       "      <td>0</td>\n",
       "      <td>1</td>\n",
       "    </tr>\n",
       "  </tbody>\n",
       "</table>\n",
       "</div>"
      ],
      "text/plain": [
       "               Time   ST/UT ConfirmedIndianNational ConfirmedForeignNational  \\\n",
       "Date                                                                           \n",
       "2020-01-30  6:00 PM  Kerala                       1                        0   \n",
       "2020-01-31  6:00 PM  Kerala                       1                        0   \n",
       "\n",
       "            Cured  Deaths  Confirmed  \n",
       "Date                                  \n",
       "2020-01-30      0       0          1  \n",
       "2020-01-31      0       0          1  "
      ]
     },
     "execution_count": 60,
     "metadata": {},
     "output_type": "execute_result"
    }
   ],
   "source": [
    "pdf.head(2)"
   ]
  },
  {
   "cell_type": "code",
   "execution_count": 61,
   "id": "0b1cb2ca",
   "metadata": {},
   "outputs": [
    {
     "data": {
      "text/html": [
       "<div>\n",
       "<style scoped>\n",
       "    .dataframe tbody tr th:only-of-type {\n",
       "        vertical-align: middle;\n",
       "    }\n",
       "\n",
       "    .dataframe tbody tr th {\n",
       "        vertical-align: top;\n",
       "    }\n",
       "\n",
       "    .dataframe thead th {\n",
       "        text-align: right;\n",
       "    }\n",
       "</style>\n",
       "<table border=\"1\" class=\"dataframe\">\n",
       "  <thead>\n",
       "    <tr style=\"text-align: right;\">\n",
       "      <th></th>\n",
       "      <th>Confirmed</th>\n",
       "      <th>Deaths</th>\n",
       "      <th>Cured</th>\n",
       "    </tr>\n",
       "    <tr>\n",
       "      <th>Date</th>\n",
       "      <th></th>\n",
       "      <th></th>\n",
       "      <th></th>\n",
       "    </tr>\n",
       "  </thead>\n",
       "  <tbody>\n",
       "    <tr>\n",
       "      <th>2020-04-23</th>\n",
       "      <td>18</td>\n",
       "      <td>0</td>\n",
       "      <td>11</td>\n",
       "    </tr>\n",
       "    <tr>\n",
       "      <th>2020-04-23</th>\n",
       "      <td>895</td>\n",
       "      <td>27</td>\n",
       "      <td>141</td>\n",
       "    </tr>\n",
       "    <tr>\n",
       "      <th>2020-04-23</th>\n",
       "      <td>1</td>\n",
       "      <td>0</td>\n",
       "      <td>1</td>\n",
       "    </tr>\n",
       "    <tr>\n",
       "      <th>2020-04-23</th>\n",
       "      <td>35</td>\n",
       "      <td>1</td>\n",
       "      <td>19</td>\n",
       "    </tr>\n",
       "    <tr>\n",
       "      <th>2020-04-23</th>\n",
       "      <td>148</td>\n",
       "      <td>2</td>\n",
       "      <td>46</td>\n",
       "    </tr>\n",
       "    <tr>\n",
       "      <th>...</th>\n",
       "      <td>...</td>\n",
       "      <td>...</td>\n",
       "      <td>...</td>\n",
       "    </tr>\n",
       "    <tr>\n",
       "      <th>2021-03-07</th>\n",
       "      <td>299900</td>\n",
       "      <td>1641</td>\n",
       "      <td>296373</td>\n",
       "    </tr>\n",
       "    <tr>\n",
       "      <th>2021-03-07</th>\n",
       "      <td>33424</td>\n",
       "      <td>391</td>\n",
       "      <td>33003</td>\n",
       "    </tr>\n",
       "    <tr>\n",
       "      <th>2021-03-07</th>\n",
       "      <td>97363</td>\n",
       "      <td>1694</td>\n",
       "      <td>95073</td>\n",
       "    </tr>\n",
       "    <tr>\n",
       "      <th>2021-03-07</th>\n",
       "      <td>604164</td>\n",
       "      <td>8729</td>\n",
       "      <td>593704</td>\n",
       "    </tr>\n",
       "    <tr>\n",
       "      <th>2021-03-07</th>\n",
       "      <td>576435</td>\n",
       "      <td>10277</td>\n",
       "      <td>562945</td>\n",
       "    </tr>\n",
       "  </tbody>\n",
       "</table>\n",
       "<p>11175 rows × 3 columns</p>\n",
       "</div>"
      ],
      "text/plain": [
       "            Confirmed  Deaths   Cured\n",
       "Date                                 \n",
       "2020-04-23         18       0      11\n",
       "2020-04-23        895      27     141\n",
       "2020-04-23          1       0       1\n",
       "2020-04-23         35       1      19\n",
       "2020-04-23        148       2      46\n",
       "...               ...     ...     ...\n",
       "2021-03-07     299900    1641  296373\n",
       "2021-03-07      33424     391   33003\n",
       "2021-03-07      97363    1694   95073\n",
       "2021-03-07     604164    8729  593704\n",
       "2021-03-07     576435   10277  562945\n",
       "\n",
       "[11175 rows x 3 columns]"
      ]
     },
     "execution_count": 61,
     "metadata": {},
     "output_type": "execute_result"
    }
   ],
   "source": [
    "pdf.loc['2020-04-23':'2021-03-07'][['Confirmed','Deaths','Cured']]"
   ]
  },
  {
   "cell_type": "markdown",
   "id": "713a3148",
   "metadata": {},
   "source": [
    "***5. Sort the entire data wrt No. of Confirmed cases in ascending order.***"
   ]
  },
  {
   "cell_type": "code",
   "execution_count": 62,
   "id": "bce57dff",
   "metadata": {},
   "outputs": [
    {
     "data": {
      "text/html": [
       "<div>\n",
       "<style scoped>\n",
       "    .dataframe tbody tr th:only-of-type {\n",
       "        vertical-align: middle;\n",
       "    }\n",
       "\n",
       "    .dataframe tbody tr th {\n",
       "        vertical-align: top;\n",
       "    }\n",
       "\n",
       "    .dataframe thead th {\n",
       "        text-align: right;\n",
       "    }\n",
       "</style>\n",
       "<table border=\"1\" class=\"dataframe\">\n",
       "  <thead>\n",
       "    <tr style=\"text-align: right;\">\n",
       "      <th></th>\n",
       "      <th>Date</th>\n",
       "      <th>Time</th>\n",
       "      <th>ST/UT</th>\n",
       "      <th>ConfirmedIndianNational</th>\n",
       "      <th>ConfirmedForeignNational</th>\n",
       "      <th>Cured</th>\n",
       "      <th>Deaths</th>\n",
       "      <th>Confirmed</th>\n",
       "    </tr>\n",
       "  </thead>\n",
       "  <tbody>\n",
       "    <tr>\n",
       "      <th>10711</th>\n",
       "      <td>2021-01-18</td>\n",
       "      <td>8:00 AM</td>\n",
       "      <td>Lakshadweep</td>\n",
       "      <td>-</td>\n",
       "      <td>-</td>\n",
       "      <td>0</td>\n",
       "      <td>0</td>\n",
       "      <td>0</td>\n",
       "    </tr>\n",
       "    <tr>\n",
       "      <th>10099</th>\n",
       "      <td>2021-01-01</td>\n",
       "      <td>8:00 AM</td>\n",
       "      <td>Lakshadweep</td>\n",
       "      <td>-</td>\n",
       "      <td>-</td>\n",
       "      <td>0</td>\n",
       "      <td>0</td>\n",
       "      <td>0</td>\n",
       "    </tr>\n",
       "    <tr>\n",
       "      <th>9883</th>\n",
       "      <td>2020-12-26</td>\n",
       "      <td>8:00 AM</td>\n",
       "      <td>Lakshadweep</td>\n",
       "      <td>-</td>\n",
       "      <td>-</td>\n",
       "      <td>0</td>\n",
       "      <td>0</td>\n",
       "      <td>0</td>\n",
       "    </tr>\n",
       "    <tr>\n",
       "      <th>981</th>\n",
       "      <td>2020-04-15</td>\n",
       "      <td>5:00 PM</td>\n",
       "      <td>Nagaland</td>\n",
       "      <td>-</td>\n",
       "      <td>-</td>\n",
       "      <td>0</td>\n",
       "      <td>0</td>\n",
       "      <td>0</td>\n",
       "    </tr>\n",
       "    <tr>\n",
       "      <th>9739</th>\n",
       "      <td>2020-12-22</td>\n",
       "      <td>8:00 AM</td>\n",
       "      <td>Lakshadweep</td>\n",
       "      <td>-</td>\n",
       "      <td>-</td>\n",
       "      <td>0</td>\n",
       "      <td>0</td>\n",
       "      <td>0</td>\n",
       "    </tr>\n",
       "    <tr>\n",
       "      <th>...</th>\n",
       "      <td>...</td>\n",
       "      <td>...</td>\n",
       "      <td>...</td>\n",
       "      <td>...</td>\n",
       "      <td>...</td>\n",
       "      <td>...</td>\n",
       "      <td>...</td>\n",
       "      <td>...</td>\n",
       "    </tr>\n",
       "    <tr>\n",
       "      <th>17950</th>\n",
       "      <td>2021-08-07</td>\n",
       "      <td>8:00 AM</td>\n",
       "      <td>Maharashtra</td>\n",
       "      <td>-</td>\n",
       "      <td>-</td>\n",
       "      <td>6130137</td>\n",
       "      <td>133717</td>\n",
       "      <td>6341759</td>\n",
       "    </tr>\n",
       "    <tr>\n",
       "      <th>17986</th>\n",
       "      <td>2021-08-08</td>\n",
       "      <td>8:00 AM</td>\n",
       "      <td>Maharashtra</td>\n",
       "      <td>-</td>\n",
       "      <td>-</td>\n",
       "      <td>6139493</td>\n",
       "      <td>133845</td>\n",
       "      <td>6347820</td>\n",
       "    </tr>\n",
       "    <tr>\n",
       "      <th>18022</th>\n",
       "      <td>2021-08-09</td>\n",
       "      <td>8:00 AM</td>\n",
       "      <td>Maharashtra</td>\n",
       "      <td>-</td>\n",
       "      <td>-</td>\n",
       "      <td>6144388</td>\n",
       "      <td>133996</td>\n",
       "      <td>6353328</td>\n",
       "    </tr>\n",
       "    <tr>\n",
       "      <th>18058</th>\n",
       "      <td>2021-08-10</td>\n",
       "      <td>8:00 AM</td>\n",
       "      <td>Maharashtra</td>\n",
       "      <td>-</td>\n",
       "      <td>-</td>\n",
       "      <td>6151956</td>\n",
       "      <td>134064</td>\n",
       "      <td>6357833</td>\n",
       "    </tr>\n",
       "    <tr>\n",
       "      <th>18094</th>\n",
       "      <td>2021-08-11</td>\n",
       "      <td>8:00 AM</td>\n",
       "      <td>Maharashtra</td>\n",
       "      <td>-</td>\n",
       "      <td>-</td>\n",
       "      <td>6159676</td>\n",
       "      <td>134201</td>\n",
       "      <td>6363442</td>\n",
       "    </tr>\n",
       "  </tbody>\n",
       "</table>\n",
       "<p>18038 rows × 8 columns</p>\n",
       "</div>"
      ],
      "text/plain": [
       "            Date     Time        ST/UT ConfirmedIndianNational  \\\n",
       "10711 2021-01-18  8:00 AM  Lakshadweep                       -   \n",
       "10099 2021-01-01  8:00 AM  Lakshadweep                       -   \n",
       "9883  2020-12-26  8:00 AM  Lakshadweep                       -   \n",
       "981   2020-04-15  5:00 PM     Nagaland                       -   \n",
       "9739  2020-12-22  8:00 AM  Lakshadweep                       -   \n",
       "...          ...      ...          ...                     ...   \n",
       "17950 2021-08-07  8:00 AM  Maharashtra                       -   \n",
       "17986 2021-08-08  8:00 AM  Maharashtra                       -   \n",
       "18022 2021-08-09  8:00 AM  Maharashtra                       -   \n",
       "18058 2021-08-10  8:00 AM  Maharashtra                       -   \n",
       "18094 2021-08-11  8:00 AM  Maharashtra                       -   \n",
       "\n",
       "      ConfirmedForeignNational    Cured  Deaths  Confirmed  \n",
       "10711                        -        0       0          0  \n",
       "10099                        -        0       0          0  \n",
       "9883                         -        0       0          0  \n",
       "981                          -        0       0          0  \n",
       "9739                         -        0       0          0  \n",
       "...                        ...      ...     ...        ...  \n",
       "17950                        -  6130137  133717    6341759  \n",
       "17986                        -  6139493  133845    6347820  \n",
       "18022                        -  6144388  133996    6353328  \n",
       "18058                        -  6151956  134064    6357833  \n",
       "18094                        -  6159676  134201    6363442  \n",
       "\n",
       "[18038 rows x 8 columns]"
      ]
     },
     "execution_count": 62,
     "metadata": {},
     "output_type": "execute_result"
    }
   ],
   "source": [
    "ndf.sort_values(by='Confirmed',ascending=True)"
   ]
  },
  {
   "cell_type": "markdown",
   "id": "9599fb88",
   "metadata": {},
   "source": [
    "***6. Sort the entire data wrt No. of Recovered cases in descending order.***"
   ]
  },
  {
   "cell_type": "code",
   "execution_count": 63,
   "id": "c399ac6c",
   "metadata": {},
   "outputs": [
    {
     "data": {
      "text/html": [
       "<div>\n",
       "<style scoped>\n",
       "    .dataframe tbody tr th:only-of-type {\n",
       "        vertical-align: middle;\n",
       "    }\n",
       "\n",
       "    .dataframe tbody tr th {\n",
       "        vertical-align: top;\n",
       "    }\n",
       "\n",
       "    .dataframe thead th {\n",
       "        text-align: right;\n",
       "    }\n",
       "</style>\n",
       "<table border=\"1\" class=\"dataframe\">\n",
       "  <thead>\n",
       "    <tr style=\"text-align: right;\">\n",
       "      <th></th>\n",
       "      <th>Date</th>\n",
       "      <th>Time</th>\n",
       "      <th>ST/UT</th>\n",
       "      <th>ConfirmedIndianNational</th>\n",
       "      <th>ConfirmedForeignNational</th>\n",
       "      <th>Cured</th>\n",
       "      <th>Deaths</th>\n",
       "      <th>Confirmed</th>\n",
       "    </tr>\n",
       "  </thead>\n",
       "  <tbody>\n",
       "    <tr>\n",
       "      <th>18094</th>\n",
       "      <td>2021-08-11</td>\n",
       "      <td>8:00 AM</td>\n",
       "      <td>Maharashtra</td>\n",
       "      <td>-</td>\n",
       "      <td>-</td>\n",
       "      <td>6159676</td>\n",
       "      <td>134201</td>\n",
       "      <td>6363442</td>\n",
       "    </tr>\n",
       "    <tr>\n",
       "      <th>18058</th>\n",
       "      <td>2021-08-10</td>\n",
       "      <td>8:00 AM</td>\n",
       "      <td>Maharashtra</td>\n",
       "      <td>-</td>\n",
       "      <td>-</td>\n",
       "      <td>6151956</td>\n",
       "      <td>134064</td>\n",
       "      <td>6357833</td>\n",
       "    </tr>\n",
       "    <tr>\n",
       "      <th>18022</th>\n",
       "      <td>2021-08-09</td>\n",
       "      <td>8:00 AM</td>\n",
       "      <td>Maharashtra</td>\n",
       "      <td>-</td>\n",
       "      <td>-</td>\n",
       "      <td>6144388</td>\n",
       "      <td>133996</td>\n",
       "      <td>6353328</td>\n",
       "    </tr>\n",
       "    <tr>\n",
       "      <th>17986</th>\n",
       "      <td>2021-08-08</td>\n",
       "      <td>8:00 AM</td>\n",
       "      <td>Maharashtra</td>\n",
       "      <td>-</td>\n",
       "      <td>-</td>\n",
       "      <td>6139493</td>\n",
       "      <td>133845</td>\n",
       "      <td>6347820</td>\n",
       "    </tr>\n",
       "    <tr>\n",
       "      <th>17950</th>\n",
       "      <td>2021-08-07</td>\n",
       "      <td>8:00 AM</td>\n",
       "      <td>Maharashtra</td>\n",
       "      <td>-</td>\n",
       "      <td>-</td>\n",
       "      <td>6130137</td>\n",
       "      <td>133717</td>\n",
       "      <td>6341759</td>\n",
       "    </tr>\n",
       "    <tr>\n",
       "      <th>...</th>\n",
       "      <td>...</td>\n",
       "      <td>...</td>\n",
       "      <td>...</td>\n",
       "      <td>...</td>\n",
       "      <td>...</td>\n",
       "      <td>...</td>\n",
       "      <td>...</td>\n",
       "      <td>...</td>\n",
       "    </tr>\n",
       "    <tr>\n",
       "      <th>9343</th>\n",
       "      <td>2020-12-11</td>\n",
       "      <td>8:00 AM</td>\n",
       "      <td>Lakshadweep</td>\n",
       "      <td>-</td>\n",
       "      <td>-</td>\n",
       "      <td>0</td>\n",
       "      <td>0</td>\n",
       "      <td>0</td>\n",
       "    </tr>\n",
       "    <tr>\n",
       "      <th>547</th>\n",
       "      <td>2020-04-01</td>\n",
       "      <td>7:30 PM</td>\n",
       "      <td>Manipur</td>\n",
       "      <td>-</td>\n",
       "      <td>-</td>\n",
       "      <td>0</td>\n",
       "      <td>0</td>\n",
       "      <td>1</td>\n",
       "    </tr>\n",
       "    <tr>\n",
       "      <th>545</th>\n",
       "      <td>2020-04-01</td>\n",
       "      <td>7:30 PM</td>\n",
       "      <td>Madhya Pradesh</td>\n",
       "      <td>-</td>\n",
       "      <td>-</td>\n",
       "      <td>0</td>\n",
       "      <td>3</td>\n",
       "      <td>66</td>\n",
       "    </tr>\n",
       "    <tr>\n",
       "      <th>541</th>\n",
       "      <td>2020-04-01</td>\n",
       "      <td>7:30 PM</td>\n",
       "      <td>Jharkhand</td>\n",
       "      <td>-</td>\n",
       "      <td>-</td>\n",
       "      <td>0</td>\n",
       "      <td>0</td>\n",
       "      <td>1</td>\n",
       "    </tr>\n",
       "    <tr>\n",
       "      <th>0</th>\n",
       "      <td>2020-01-30</td>\n",
       "      <td>6:00 PM</td>\n",
       "      <td>Kerala</td>\n",
       "      <td>1</td>\n",
       "      <td>0</td>\n",
       "      <td>0</td>\n",
       "      <td>0</td>\n",
       "      <td>1</td>\n",
       "    </tr>\n",
       "  </tbody>\n",
       "</table>\n",
       "<p>18038 rows × 8 columns</p>\n",
       "</div>"
      ],
      "text/plain": [
       "            Date     Time           ST/UT ConfirmedIndianNational  \\\n",
       "18094 2021-08-11  8:00 AM     Maharashtra                       -   \n",
       "18058 2021-08-10  8:00 AM     Maharashtra                       -   \n",
       "18022 2021-08-09  8:00 AM     Maharashtra                       -   \n",
       "17986 2021-08-08  8:00 AM     Maharashtra                       -   \n",
       "17950 2021-08-07  8:00 AM     Maharashtra                       -   \n",
       "...          ...      ...             ...                     ...   \n",
       "9343  2020-12-11  8:00 AM     Lakshadweep                       -   \n",
       "547   2020-04-01  7:30 PM         Manipur                       -   \n",
       "545   2020-04-01  7:30 PM  Madhya Pradesh                       -   \n",
       "541   2020-04-01  7:30 PM       Jharkhand                       -   \n",
       "0     2020-01-30  6:00 PM          Kerala                       1   \n",
       "\n",
       "      ConfirmedForeignNational    Cured  Deaths  Confirmed  \n",
       "18094                        -  6159676  134201    6363442  \n",
       "18058                        -  6151956  134064    6357833  \n",
       "18022                        -  6144388  133996    6353328  \n",
       "17986                        -  6139493  133845    6347820  \n",
       "17950                        -  6130137  133717    6341759  \n",
       "...                        ...      ...     ...        ...  \n",
       "9343                         -        0       0          0  \n",
       "547                          -        0       0          1  \n",
       "545                          -        0       3         66  \n",
       "541                          -        0       0          1  \n",
       "0                            0        0       0          1  \n",
       "\n",
       "[18038 rows x 8 columns]"
      ]
     },
     "execution_count": 63,
     "metadata": {},
     "output_type": "execute_result"
    }
   ],
   "source": [
    "ndf.sort_values(by='Cured',ascending=False)"
   ]
  },
  {
   "cell_type": "code",
   "execution_count": null,
   "id": "ae984ac0",
   "metadata": {},
   "outputs": [],
   "source": []
  },
  {
   "cell_type": "code",
   "execution_count": null,
   "id": "4a0aab97",
   "metadata": {},
   "outputs": [],
   "source": []
  },
  {
   "cell_type": "code",
   "execution_count": null,
   "id": "21bc7c0d",
   "metadata": {},
   "outputs": [],
   "source": []
  }
 ],
 "metadata": {
  "kernelspec": {
   "display_name": "Python 3 (ipykernel)",
   "language": "python",
   "name": "python3"
  },
  "language_info": {
   "codemirror_mode": {
    "name": "ipython",
    "version": 3
   },
   "file_extension": ".py",
   "mimetype": "text/x-python",
   "name": "python",
   "nbconvert_exporter": "python",
   "pygments_lexer": "ipython3",
   "version": "3.9.7"
  }
 },
 "nbformat": 4,
 "nbformat_minor": 5
}
