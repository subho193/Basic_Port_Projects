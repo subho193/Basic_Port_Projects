{
 "cells": [
  {
   "cell_type": "code",
   "execution_count": 1,
   "id": "f8f73620",
   "metadata": {},
   "outputs": [],
   "source": [
    "#importing dependencies\n",
    "import numpy as np\n",
    "import pandas as pd\n",
    "import seaborn as sns\n",
    "import matplotlib.pyplot as plt\n",
    "%matplotlib inline"
   ]
  },
  {
   "cell_type": "code",
   "execution_count": 2,
   "id": "c008d391",
   "metadata": {},
   "outputs": [],
   "source": [
    "#imporing data\n",
    "film_df=pd.read_csv('film_data.csv')\n",
    "actor_df=pd.read_csv('actor_data.csv')\n",
    "film_actor_df=pd.read_csv('film_actor_data.csv')"
   ]
  },
  {
   "cell_type": "markdown",
   "id": "4be31616",
   "metadata": {},
   "source": [
    "### 1. Basic Analysis of Data"
   ]
  },
  {
   "cell_type": "code",
   "execution_count": 3,
   "id": "1e337ff8",
   "metadata": {},
   "outputs": [
    {
     "data": {
      "text/html": [
       "<div>\n",
       "<style scoped>\n",
       "    .dataframe tbody tr th:only-of-type {\n",
       "        vertical-align: middle;\n",
       "    }\n",
       "\n",
       "    .dataframe tbody tr th {\n",
       "        vertical-align: top;\n",
       "    }\n",
       "\n",
       "    .dataframe thead th {\n",
       "        text-align: right;\n",
       "    }\n",
       "</style>\n",
       "<table border=\"1\" class=\"dataframe\">\n",
       "  <thead>\n",
       "    <tr style=\"text-align: right;\">\n",
       "      <th></th>\n",
       "      <th>film_id</th>\n",
       "      <th>title</th>\n",
       "      <th>description</th>\n",
       "      <th>release_year</th>\n",
       "      <th>language_id</th>\n",
       "      <th>rental_duration</th>\n",
       "      <th>rental_rate</th>\n",
       "      <th>length</th>\n",
       "      <th>replacement_cost</th>\n",
       "      <th>rating</th>\n",
       "      <th>last_update</th>\n",
       "      <th>special_features</th>\n",
       "      <th>fulltext</th>\n",
       "    </tr>\n",
       "  </thead>\n",
       "  <tbody>\n",
       "    <tr>\n",
       "      <th>0</th>\n",
       "      <td>133</td>\n",
       "      <td>Chamber Italian</td>\n",
       "      <td>A Fateful Reflection of a Moose And a Husband ...</td>\n",
       "      <td>2006</td>\n",
       "      <td>1</td>\n",
       "      <td>7</td>\n",
       "      <td>4.99</td>\n",
       "      <td>117</td>\n",
       "      <td>14.99</td>\n",
       "      <td>NC-17</td>\n",
       "      <td>2013-05-26 14:50:58.951</td>\n",
       "      <td>{Trailers}</td>\n",
       "      <td>'chamber':1 'fate':4 'husband':11 'italian':2 ...</td>\n",
       "    </tr>\n",
       "    <tr>\n",
       "      <th>1</th>\n",
       "      <td>384</td>\n",
       "      <td>Grosse Wonderful</td>\n",
       "      <td>A Epic Drama of a Cat And a Explorer who must ...</td>\n",
       "      <td>2006</td>\n",
       "      <td>1</td>\n",
       "      <td>5</td>\n",
       "      <td>4.99</td>\n",
       "      <td>49</td>\n",
       "      <td>19.99</td>\n",
       "      <td>R</td>\n",
       "      <td>2013-05-26 14:50:58.951</td>\n",
       "      <td>{\"Behind the Scenes\"}</td>\n",
       "      <td>'australia':18 'cat':8 'drama':5 'epic':4 'exp...</td>\n",
       "    </tr>\n",
       "  </tbody>\n",
       "</table>\n",
       "</div>"
      ],
      "text/plain": [
       "   film_id             title  \\\n",
       "0      133   Chamber Italian   \n",
       "1      384  Grosse Wonderful   \n",
       "\n",
       "                                         description  release_year  \\\n",
       "0  A Fateful Reflection of a Moose And a Husband ...          2006   \n",
       "1  A Epic Drama of a Cat And a Explorer who must ...          2006   \n",
       "\n",
       "   language_id  rental_duration  rental_rate  length  replacement_cost rating  \\\n",
       "0            1                7         4.99     117             14.99  NC-17   \n",
       "1            1                5         4.99      49             19.99      R   \n",
       "\n",
       "               last_update       special_features  \\\n",
       "0  2013-05-26 14:50:58.951             {Trailers}   \n",
       "1  2013-05-26 14:50:58.951  {\"Behind the Scenes\"}   \n",
       "\n",
       "                                            fulltext  \n",
       "0  'chamber':1 'fate':4 'husband':11 'italian':2 ...  \n",
       "1  'australia':18 'cat':8 'drama':5 'epic':4 'exp...  "
      ]
     },
     "execution_count": 3,
     "metadata": {},
     "output_type": "execute_result"
    }
   ],
   "source": [
    "film_df.head(2)"
   ]
  },
  {
   "cell_type": "code",
   "execution_count": 7,
   "id": "b5ade633",
   "metadata": {},
   "outputs": [
    {
     "name": "stdout",
     "output_type": "stream",
     "text": [
      "<class 'pandas.core.frame.DataFrame'>\n",
      "RangeIndex: 1000 entries, 0 to 999\n",
      "Data columns (total 13 columns):\n",
      " #   Column            Non-Null Count  Dtype  \n",
      "---  ------            --------------  -----  \n",
      " 0   film_id           1000 non-null   int64  \n",
      " 1   title             1000 non-null   object \n",
      " 2   description       1000 non-null   object \n",
      " 3   release_year      1000 non-null   int64  \n",
      " 4   language_id       1000 non-null   int64  \n",
      " 5   rental_duration   1000 non-null   int64  \n",
      " 6   rental_rate       1000 non-null   float64\n",
      " 7   length            1000 non-null   int64  \n",
      " 8   replacement_cost  1000 non-null   float64\n",
      " 9   rating            1000 non-null   object \n",
      " 10  last_update       1000 non-null   object \n",
      " 11  special_features  1000 non-null   object \n",
      " 12  fulltext          1000 non-null   object \n",
      "dtypes: float64(2), int64(5), object(6)\n",
      "memory usage: 101.7+ KB\n"
     ]
    }
   ],
   "source": [
    "film_df.info()"
   ]
  },
  {
   "cell_type": "markdown",
   "id": "7ea6a625",
   "metadata": {},
   "source": [
    "> ***Checking for duplicate values...***"
   ]
  },
  {
   "cell_type": "code",
   "execution_count": 11,
   "id": "ca4cec0f",
   "metadata": {},
   "outputs": [
    {
     "data": {
      "text/html": [
       "<div>\n",
       "<style scoped>\n",
       "    .dataframe tbody tr th:only-of-type {\n",
       "        vertical-align: middle;\n",
       "    }\n",
       "\n",
       "    .dataframe tbody tr th {\n",
       "        vertical-align: top;\n",
       "    }\n",
       "\n",
       "    .dataframe thead th {\n",
       "        text-align: right;\n",
       "    }\n",
       "</style>\n",
       "<table border=\"1\" class=\"dataframe\">\n",
       "  <thead>\n",
       "    <tr style=\"text-align: right;\">\n",
       "      <th></th>\n",
       "      <th>film_id</th>\n",
       "      <th>title</th>\n",
       "      <th>description</th>\n",
       "      <th>release_year</th>\n",
       "      <th>language_id</th>\n",
       "      <th>rental_duration</th>\n",
       "      <th>rental_rate</th>\n",
       "      <th>length</th>\n",
       "      <th>replacement_cost</th>\n",
       "      <th>rating</th>\n",
       "      <th>last_update</th>\n",
       "      <th>special_features</th>\n",
       "      <th>fulltext</th>\n",
       "    </tr>\n",
       "  </thead>\n",
       "  <tbody>\n",
       "  </tbody>\n",
       "</table>\n",
       "</div>"
      ],
      "text/plain": [
       "Empty DataFrame\n",
       "Columns: [film_id, title, description, release_year, language_id, rental_duration, rental_rate, length, replacement_cost, rating, last_update, special_features, fulltext]\n",
       "Index: []"
      ]
     },
     "execution_count": 11,
     "metadata": {},
     "output_type": "execute_result"
    }
   ],
   "source": [
    "film_df[film_df.duplicated()]\n",
    "# There is no duplicate value in film_df table."
   ]
  },
  {
   "cell_type": "code",
   "execution_count": 10,
   "id": "363e31a5",
   "metadata": {},
   "outputs": [
    {
     "data": {
      "text/html": [
       "<div>\n",
       "<style scoped>\n",
       "    .dataframe tbody tr th:only-of-type {\n",
       "        vertical-align: middle;\n",
       "    }\n",
       "\n",
       "    .dataframe tbody tr th {\n",
       "        vertical-align: top;\n",
       "    }\n",
       "\n",
       "    .dataframe thead th {\n",
       "        text-align: right;\n",
       "    }\n",
       "</style>\n",
       "<table border=\"1\" class=\"dataframe\">\n",
       "  <thead>\n",
       "    <tr style=\"text-align: right;\">\n",
       "      <th></th>\n",
       "      <th>actor_id</th>\n",
       "      <th>film_id</th>\n",
       "      <th>last_update</th>\n",
       "    </tr>\n",
       "  </thead>\n",
       "  <tbody>\n",
       "  </tbody>\n",
       "</table>\n",
       "</div>"
      ],
      "text/plain": [
       "Empty DataFrame\n",
       "Columns: [actor_id, film_id, last_update]\n",
       "Index: []"
      ]
     },
     "execution_count": 10,
     "metadata": {},
     "output_type": "execute_result"
    }
   ],
   "source": [
    "film_actor_df[film_actor_df.duplicated()]\n",
    "# There is no duplicate value in film_actor_df table."
   ]
  },
  {
   "cell_type": "code",
   "execution_count": 12,
   "id": "721a7b91",
   "metadata": {},
   "outputs": [
    {
     "data": {
      "text/html": [
       "<div>\n",
       "<style scoped>\n",
       "    .dataframe tbody tr th:only-of-type {\n",
       "        vertical-align: middle;\n",
       "    }\n",
       "\n",
       "    .dataframe tbody tr th {\n",
       "        vertical-align: top;\n",
       "    }\n",
       "\n",
       "    .dataframe thead th {\n",
       "        text-align: right;\n",
       "    }\n",
       "</style>\n",
       "<table border=\"1\" class=\"dataframe\">\n",
       "  <thead>\n",
       "    <tr style=\"text-align: right;\">\n",
       "      <th></th>\n",
       "      <th>actor_id</th>\n",
       "      <th>first_name</th>\n",
       "      <th>last_name</th>\n",
       "      <th>last_update</th>\n",
       "    </tr>\n",
       "  </thead>\n",
       "  <tbody>\n",
       "  </tbody>\n",
       "</table>\n",
       "</div>"
      ],
      "text/plain": [
       "Empty DataFrame\n",
       "Columns: [actor_id, first_name, last_name, last_update]\n",
       "Index: []"
      ]
     },
     "execution_count": 12,
     "metadata": {},
     "output_type": "execute_result"
    }
   ],
   "source": [
    "actor_df[actor_df.duplicated()]\n",
    "# There is no duplicate value in actor_df table."
   ]
  },
  {
   "cell_type": "markdown",
   "id": "ae4e1995",
   "metadata": {},
   "source": [
    ">***Checking for missing values..***"
   ]
  },
  {
   "cell_type": "code",
   "execution_count": 13,
   "id": "20238bb5",
   "metadata": {},
   "outputs": [
    {
     "data": {
      "text/plain": [
       "film_id             0\n",
       "title               0\n",
       "description         0\n",
       "release_year        0\n",
       "language_id         0\n",
       "rental_duration     0\n",
       "rental_rate         0\n",
       "length              0\n",
       "replacement_cost    0\n",
       "rating              0\n",
       "last_update         0\n",
       "special_features    0\n",
       "fulltext            0\n",
       "dtype: int64"
      ]
     },
     "execution_count": 13,
     "metadata": {},
     "output_type": "execute_result"
    }
   ],
   "source": [
    "film_df.isnull().sum()"
   ]
  },
  {
   "cell_type": "code",
   "execution_count": 15,
   "id": "a538fe3f",
   "metadata": {},
   "outputs": [
    {
     "data": {
      "text/plain": [
       "actor_id       0\n",
       "film_id        0\n",
       "last_update    0\n",
       "dtype: int64"
      ]
     },
     "execution_count": 15,
     "metadata": {},
     "output_type": "execute_result"
    }
   ],
   "source": [
    "film_actor_df.isnull().sum()"
   ]
  },
  {
   "cell_type": "code",
   "execution_count": 16,
   "id": "95b762a7",
   "metadata": {},
   "outputs": [
    {
     "data": {
      "text/plain": [
       "actor_id       0\n",
       "first_name     0\n",
       "last_name      0\n",
       "last_update    0\n",
       "dtype: int64"
      ]
     },
     "execution_count": 16,
     "metadata": {},
     "output_type": "execute_result"
    }
   ],
   "source": [
    "actor_df.isnull().sum()"
   ]
  },
  {
   "cell_type": "code",
   "execution_count": null,
   "id": "37b3d0f3",
   "metadata": {},
   "outputs": [],
   "source": [
    "#There is no missing values in any of the tables."
   ]
  },
  {
   "cell_type": "markdown",
   "id": "b5879f9b",
   "metadata": {},
   "source": [
    "### A. Analyzing film_df table.."
   ]
  },
  {
   "cell_type": "code",
   "execution_count": 18,
   "id": "ea0d3e18",
   "metadata": {},
   "outputs": [
    {
     "data": {
      "text/html": [
       "<div>\n",
       "<style scoped>\n",
       "    .dataframe tbody tr th:only-of-type {\n",
       "        vertical-align: middle;\n",
       "    }\n",
       "\n",
       "    .dataframe tbody tr th {\n",
       "        vertical-align: top;\n",
       "    }\n",
       "\n",
       "    .dataframe thead th {\n",
       "        text-align: right;\n",
       "    }\n",
       "</style>\n",
       "<table border=\"1\" class=\"dataframe\">\n",
       "  <thead>\n",
       "    <tr style=\"text-align: right;\">\n",
       "      <th></th>\n",
       "      <th>film_id</th>\n",
       "      <th>title</th>\n",
       "      <th>description</th>\n",
       "      <th>release_year</th>\n",
       "      <th>language_id</th>\n",
       "      <th>rental_duration</th>\n",
       "      <th>rental_rate</th>\n",
       "      <th>length</th>\n",
       "      <th>replacement_cost</th>\n",
       "      <th>rating</th>\n",
       "      <th>last_update</th>\n",
       "      <th>special_features</th>\n",
       "      <th>fulltext</th>\n",
       "    </tr>\n",
       "  </thead>\n",
       "  <tbody>\n",
       "    <tr>\n",
       "      <th>0</th>\n",
       "      <td>133</td>\n",
       "      <td>Chamber Italian</td>\n",
       "      <td>A Fateful Reflection of a Moose And a Husband ...</td>\n",
       "      <td>2006</td>\n",
       "      <td>1</td>\n",
       "      <td>7</td>\n",
       "      <td>4.99</td>\n",
       "      <td>117</td>\n",
       "      <td>14.99</td>\n",
       "      <td>NC-17</td>\n",
       "      <td>2013-05-26 14:50:58.951</td>\n",
       "      <td>{Trailers}</td>\n",
       "      <td>'chamber':1 'fate':4 'husband':11 'italian':2 ...</td>\n",
       "    </tr>\n",
       "    <tr>\n",
       "      <th>1</th>\n",
       "      <td>384</td>\n",
       "      <td>Grosse Wonderful</td>\n",
       "      <td>A Epic Drama of a Cat And a Explorer who must ...</td>\n",
       "      <td>2006</td>\n",
       "      <td>1</td>\n",
       "      <td>5</td>\n",
       "      <td>4.99</td>\n",
       "      <td>49</td>\n",
       "      <td>19.99</td>\n",
       "      <td>R</td>\n",
       "      <td>2013-05-26 14:50:58.951</td>\n",
       "      <td>{\"Behind the Scenes\"}</td>\n",
       "      <td>'australia':18 'cat':8 'drama':5 'epic':4 'exp...</td>\n",
       "    </tr>\n",
       "  </tbody>\n",
       "</table>\n",
       "</div>"
      ],
      "text/plain": [
       "   film_id             title  \\\n",
       "0      133   Chamber Italian   \n",
       "1      384  Grosse Wonderful   \n",
       "\n",
       "                                         description  release_year  \\\n",
       "0  A Fateful Reflection of a Moose And a Husband ...          2006   \n",
       "1  A Epic Drama of a Cat And a Explorer who must ...          2006   \n",
       "\n",
       "   language_id  rental_duration  rental_rate  length  replacement_cost rating  \\\n",
       "0            1                7         4.99     117             14.99  NC-17   \n",
       "1            1                5         4.99      49             19.99      R   \n",
       "\n",
       "               last_update       special_features  \\\n",
       "0  2013-05-26 14:50:58.951             {Trailers}   \n",
       "1  2013-05-26 14:50:58.951  {\"Behind the Scenes\"}   \n",
       "\n",
       "                                            fulltext  \n",
       "0  'chamber':1 'fate':4 'husband':11 'italian':2 ...  \n",
       "1  'australia':18 'cat':8 'drama':5 'epic':4 'exp...  "
      ]
     },
     "execution_count": 18,
     "metadata": {},
     "output_type": "execute_result"
    }
   ],
   "source": [
    "film_df.head(2)"
   ]
  },
  {
   "cell_type": "code",
   "execution_count": 160,
   "id": "78e2b1a9",
   "metadata": {},
   "outputs": [
    {
     "data": {
      "text/plain": [
       "(1000, 13)"
      ]
     },
     "execution_count": 160,
     "metadata": {},
     "output_type": "execute_result"
    }
   ],
   "source": [
    "film_df.shape"
   ]
  },
  {
   "cell_type": "code",
   "execution_count": 19,
   "id": "23cbcd50",
   "metadata": {},
   "outputs": [
    {
     "data": {
      "text/plain": [
       "1000"
      ]
     },
     "execution_count": 19,
     "metadata": {},
     "output_type": "execute_result"
    }
   ],
   "source": [
    "film_df['film_id'].nunique()"
   ]
  },
  {
   "cell_type": "code",
   "execution_count": 20,
   "id": "3eeae9c0",
   "metadata": {},
   "outputs": [
    {
     "data": {
      "text/plain": [
       "1000"
      ]
     },
     "execution_count": 20,
     "metadata": {},
     "output_type": "execute_result"
    }
   ],
   "source": [
    "film_df['title'].nunique()"
   ]
  },
  {
   "cell_type": "code",
   "execution_count": 21,
   "id": "bfa2b6d5",
   "metadata": {},
   "outputs": [
    {
     "data": {
      "text/plain": [
       "1000"
      ]
     },
     "execution_count": 21,
     "metadata": {},
     "output_type": "execute_result"
    }
   ],
   "source": [
    "film_df['description'].nunique()"
   ]
  },
  {
   "cell_type": "code",
   "execution_count": 22,
   "id": "efdd1998",
   "metadata": {},
   "outputs": [
    {
     "data": {
      "text/plain": [
       "1"
      ]
     },
     "execution_count": 22,
     "metadata": {},
     "output_type": "execute_result"
    }
   ],
   "source": [
    "film_df['release_year'].nunique()"
   ]
  },
  {
   "cell_type": "code",
   "execution_count": 23,
   "id": "ac3002c1",
   "metadata": {},
   "outputs": [
    {
     "data": {
      "text/plain": [
       "1"
      ]
     },
     "execution_count": 23,
     "metadata": {},
     "output_type": "execute_result"
    }
   ],
   "source": [
    "film_df['language_id'].nunique()"
   ]
  },
  {
   "cell_type": "code",
   "execution_count": 24,
   "id": "62c6b33a",
   "metadata": {},
   "outputs": [
    {
     "data": {
      "text/plain": [
       "5"
      ]
     },
     "execution_count": 24,
     "metadata": {},
     "output_type": "execute_result"
    }
   ],
   "source": [
    "film_df['rental_duration'].nunique()"
   ]
  },
  {
   "cell_type": "code",
   "execution_count": 26,
   "id": "b5aaf725",
   "metadata": {},
   "outputs": [
    {
     "data": {
      "text/plain": [
       "6    212\n",
       "4    203\n",
       "3    203\n",
       "7    191\n",
       "5    191\n",
       "Name: rental_duration, dtype: int64"
      ]
     },
     "execution_count": 26,
     "metadata": {},
     "output_type": "execute_result"
    }
   ],
   "source": [
    "film_df['rental_duration'].value_counts().sort_values(ascending=False)"
   ]
  },
  {
   "cell_type": "code",
   "execution_count": 27,
   "id": "14cd3e49",
   "metadata": {},
   "outputs": [
    {
     "data": {
      "text/plain": [
       "3"
      ]
     },
     "execution_count": 27,
     "metadata": {},
     "output_type": "execute_result"
    }
   ],
   "source": [
    "film_df['rental_rate'].nunique()"
   ]
  },
  {
   "cell_type": "code",
   "execution_count": 32,
   "id": "4756477b",
   "metadata": {},
   "outputs": [
    {
     "data": {
      "text/plain": [
       "4.99    336\n",
       "2.99    323\n",
       "0.99    341\n",
       "Name: rental_rate, dtype: int64"
      ]
     },
     "execution_count": 32,
     "metadata": {},
     "output_type": "execute_result"
    }
   ],
   "source": [
    "film_df['rental_rate'].value_counts().sort_index(ascending=False)"
   ]
  },
  {
   "cell_type": "code",
   "execution_count": 29,
   "id": "2782d101",
   "metadata": {},
   "outputs": [
    {
     "data": {
      "text/plain": [
       "140"
      ]
     },
     "execution_count": 29,
     "metadata": {},
     "output_type": "execute_result"
    }
   ],
   "source": [
    "film_df['length'].nunique()"
   ]
  },
  {
   "cell_type": "code",
   "execution_count": 30,
   "id": "9426e6c3",
   "metadata": {},
   "outputs": [
    {
     "data": {
      "text/plain": [
       "21"
      ]
     },
     "execution_count": 30,
     "metadata": {},
     "output_type": "execute_result"
    }
   ],
   "source": [
    "film_df['replacement_cost'].nunique()"
   ]
  },
  {
   "cell_type": "code",
   "execution_count": 33,
   "id": "289a09bc",
   "metadata": {},
   "outputs": [
    {
     "data": {
      "text/plain": [
       "29.99    53\n",
       "28.99    41\n",
       "27.99    53\n",
       "26.99    46\n",
       "25.99    43\n",
       "24.99    38\n",
       "23.99    45\n",
       "22.99    55\n",
       "21.99    55\n",
       "20.99    57\n",
       "19.99    50\n",
       "18.99    42\n",
       "17.99    47\n",
       "16.99    38\n",
       "15.99    37\n",
       "14.99    51\n",
       "13.99    55\n",
       "12.99    55\n",
       "11.99    49\n",
       "10.99    49\n",
       "9.99     41\n",
       "Name: replacement_cost, dtype: int64"
      ]
     },
     "execution_count": 33,
     "metadata": {},
     "output_type": "execute_result"
    }
   ],
   "source": [
    "film_df['replacement_cost'].value_counts().sort_index(ascending=False)"
   ]
  },
  {
   "cell_type": "code",
   "execution_count": 34,
   "id": "65a27250",
   "metadata": {},
   "outputs": [
    {
     "data": {
      "text/plain": [
       "5"
      ]
     },
     "execution_count": 34,
     "metadata": {},
     "output_type": "execute_result"
    }
   ],
   "source": [
    "film_df['rating'].nunique()"
   ]
  },
  {
   "cell_type": "code",
   "execution_count": 35,
   "id": "9a469dc2",
   "metadata": {},
   "outputs": [
    {
     "data": {
      "text/plain": [
       "PG-13    223\n",
       "NC-17    210\n",
       "R        195\n",
       "PG       194\n",
       "G        178\n",
       "Name: rating, dtype: int64"
      ]
     },
     "execution_count": 35,
     "metadata": {},
     "output_type": "execute_result"
    }
   ],
   "source": [
    "film_df['rating'].value_counts().sort_values(ascending=False)"
   ]
  },
  {
   "cell_type": "code",
   "execution_count": 36,
   "id": "e05fe9e6",
   "metadata": {},
   "outputs": [
    {
     "data": {
      "text/plain": [
       "15"
      ]
     },
     "execution_count": 36,
     "metadata": {},
     "output_type": "execute_result"
    }
   ],
   "source": [
    "film_df['special_features'].nunique()"
   ]
  },
  {
   "cell_type": "code",
   "execution_count": 37,
   "id": "6f184689",
   "metadata": {},
   "outputs": [
    {
     "data": {
      "text/plain": [
       "{Trailers,Commentaries,\"Behind the Scenes\"}                     79\n",
       "{Trailers}                                                      72\n",
       "{Trailers,Commentaries}                                         72\n",
       "{Trailers,\"Behind the Scenes\"}                                  72\n",
       "{\"Deleted Scenes\",\"Behind the Scenes\"}                          71\n",
       "{\"Behind the Scenes\"}                                           70\n",
       "{Commentaries,\"Behind the Scenes\"}                              70\n",
       "{Trailers,\"Deleted Scenes\"}                                     66\n",
       "{Commentaries,\"Deleted Scenes\",\"Behind the Scenes\"}             66\n",
       "{Commentaries,\"Deleted Scenes\"}                                 65\n",
       "{Trailers,Commentaries,\"Deleted Scenes\"}                        64\n",
       "{Commentaries}                                                  62\n",
       "{\"Deleted Scenes\"}                                              61\n",
       "{Trailers,Commentaries,\"Deleted Scenes\",\"Behind the Scenes\"}    61\n",
       "{Trailers,\"Deleted Scenes\",\"Behind the Scenes\"}                 49\n",
       "Name: special_features, dtype: int64"
      ]
     },
     "execution_count": 37,
     "metadata": {},
     "output_type": "execute_result"
    }
   ],
   "source": [
    "film_df['special_features'].value_counts().sort_values(ascending=False)"
   ]
  },
  {
   "cell_type": "code",
   "execution_count": 38,
   "id": "a32ae7c0",
   "metadata": {},
   "outputs": [
    {
     "data": {
      "text/plain": [
       "1000"
      ]
     },
     "execution_count": 38,
     "metadata": {},
     "output_type": "execute_result"
    }
   ],
   "source": [
    "film_df['fulltext'].nunique()"
   ]
  },
  {
   "cell_type": "markdown",
   "id": "0f231b55",
   "metadata": {},
   "source": [
    "### Feature Engineering.."
   ]
  },
  {
   "cell_type": "code",
   "execution_count": 39,
   "id": "a3098a43",
   "metadata": {},
   "outputs": [
    {
     "data": {
      "text/plain": [
       "0      2013-05-26 14:50:58.951\n",
       "1      2013-05-26 14:50:58.951\n",
       "2      2013-05-26 14:50:58.951\n",
       "3      2013-05-26 14:50:58.951\n",
       "4      2013-05-26 14:50:58.951\n",
       "                ...           \n",
       "995    2013-05-26 14:50:58.951\n",
       "996    2013-05-26 14:50:58.951\n",
       "997    2013-05-26 14:50:58.951\n",
       "998    2013-05-26 14:50:58.951\n",
       "999    2013-05-26 14:50:58.951\n",
       "Name: last_update, Length: 1000, dtype: object"
      ]
     },
     "execution_count": 39,
     "metadata": {},
     "output_type": "execute_result"
    }
   ],
   "source": [
    "film_df['last_update']"
   ]
  },
  {
   "cell_type": "code",
   "execution_count": 41,
   "id": "319669fc",
   "metadata": {},
   "outputs": [],
   "source": [
    "### Let's change datatype of this column to datetime datatype..\n",
    "film_df['last_update']=pd.to_datetime(film_df['last_update'])"
   ]
  },
  {
   "cell_type": "markdown",
   "id": "ed3ba037",
   "metadata": {},
   "source": [
    "### EDA"
   ]
  },
  {
   "cell_type": "code",
   "execution_count": 42,
   "id": "c247c230",
   "metadata": {},
   "outputs": [
    {
     "data": {
      "text/plain": [
       "Index(['film_id', 'title', 'description', 'release_year', 'language_id',\n",
       "       'rental_duration', 'rental_rate', 'length', 'replacement_cost',\n",
       "       'rating', 'last_update', 'special_features', 'fulltext'],\n",
       "      dtype='object')"
      ]
     },
     "execution_count": 42,
     "metadata": {},
     "output_type": "execute_result"
    }
   ],
   "source": [
    "film_df.columns"
   ]
  },
  {
   "cell_type": "code",
   "execution_count": 45,
   "id": "c4743dd9",
   "metadata": {},
   "outputs": [],
   "source": [
    "sns.set_style('darkgrid')"
   ]
  },
  {
   "cell_type": "code",
   "execution_count": 46,
   "id": "de8c0ffd",
   "metadata": {},
   "outputs": [
    {
     "data": {
      "text/plain": [
       "<AxesSubplot:xlabel='rental_duration', ylabel='rental_rate'>"
      ]
     },
     "execution_count": 46,
     "metadata": {},
     "output_type": "execute_result"
    },
    {
     "data": {
      "image/png": "[encoded data removed]",
      "text/plain": [
       "<Figure size 432x288 with 1 Axes>"
      ]
     },
     "metadata": {},
     "output_type": "display_data"
    }
   ],
   "source": [
    "sns.scatterplot(x='rental_duration',y='rental_rate',data=film_df)"
   ]
  },
  {
   "cell_type": "code",
   "execution_count": 49,
   "id": "f2820526",
   "metadata": {},
   "outputs": [
    {
     "data": {
      "text/plain": [
       "<AxesSubplot:xlabel='rental_duration', ylabel='Count'>"
      ]
     },
     "execution_count": 49,
     "metadata": {},
     "output_type": "execute_result"
    },
    {
     "data": {
      "image/png": "[encoded data removed]",
      "text/plain": [
       "<Figure size 432x288 with 1 Axes>"
      ]
     },
     "metadata": {},
     "output_type": "display_data"
    }
   ],
   "source": [
    "sns.histplot(x='rental_duration',data=film_df)"
   ]
  },
  {
   "cell_type": "code",
   "execution_count": 50,
   "id": "3053c2d5",
   "metadata": {},
   "outputs": [
    {
     "data": {
      "text/plain": [
       "<AxesSubplot:xlabel='rental_rate', ylabel='Count'>"
      ]
     },
     "execution_count": 50,
     "metadata": {},
     "output_type": "execute_result"
    },
    {
     "data": {
      "image/png": "[encoded data removed]",
      "text/plain": [
       "<Figure size 432x288 with 1 Axes>"
      ]
     },
     "metadata": {},
     "output_type": "display_data"
    }
   ],
   "source": [
    "sns.histplot(x='rental_rate',data=film_df)"
   ]
  },
  {
   "cell_type": "code",
   "execution_count": 74,
   "id": "ee6ea9bc",
   "metadata": {},
   "outputs": [
    {
     "data": {
      "text/plain": [
       "<AxesSubplot:xlabel='rental_duration', ylabel='Count'>"
      ]
     },
     "execution_count": 74,
     "metadata": {},
     "output_type": "execute_result"
    },
    {
     "data": {
      "image/png": "[encoded data removed]",
      "text/plain": [
       "<Figure size 864x576 with 1 Axes>"
      ]
     },
     "metadata": {},
     "output_type": "display_data"
    }
   ],
   "source": [
    "plt.figure(figsize=(12,8))\n",
    "sns.histplot(x='rental_duration',data=film_df,hue='rental_rate',palette='viridis')"
   ]
  },
  {
   "cell_type": "code",
   "execution_count": 70,
   "id": "093b201e",
   "metadata": {},
   "outputs": [
    {
     "data": {
      "text/plain": [
       "<AxesSubplot:xlabel='length', ylabel='Count'>"
      ]
     },
     "execution_count": 70,
     "metadata": {},
     "output_type": "execute_result"
    },
    {
     "data": {
      "image/png": "[encoded data removed]",
      "text/plain": [
       "<Figure size 432x288 with 1 Axes>"
      ]
     },
     "metadata": {},
     "output_type": "display_data"
    }
   ],
   "source": [
    "sns.histplot(film_df['length'],bins=50)"
   ]
  },
  {
   "cell_type": "code",
   "execution_count": 77,
   "id": "7738a9aa",
   "metadata": {},
   "outputs": [
    {
     "data": {
      "text/plain": [
       "<AxesSubplot:xlabel='replacement_cost', ylabel='Count'>"
      ]
     },
     "execution_count": 77,
     "metadata": {},
     "output_type": "execute_result"
    },
    {
     "data": {
      "image/png": "[encoded data removed]",
      "text/plain": [
       "<Figure size 432x288 with 1 Axes>"
      ]
     },
     "metadata": {},
     "output_type": "display_data"
    }
   ],
   "source": [
    "sns.histplot(film_df['replacement_cost'],bins=21)"
   ]
  },
  {
   "cell_type": "code",
   "execution_count": 84,
   "id": "c091e639",
   "metadata": {},
   "outputs": [
    {
     "data": {
      "text/plain": [
       "<AxesSubplot:>"
      ]
     },
     "execution_count": 84,
     "metadata": {},
     "output_type": "execute_result"
    },
    {
     "data": {
      "image/png": "[encoded data removed]",
      "text/plain": [
       "<Figure size 864x576 with 1 Axes>"
      ]
     },
     "metadata": {},
     "output_type": "display_data"
    }
   ],
   "source": [
    "film_df['replacement_cost'].value_counts().sort_values(ascending=False).plot(kind='bar',figsize=(12,8))"
   ]
  },
  {
   "cell_type": "code",
   "execution_count": 85,
   "id": "f41075f3",
   "metadata": {},
   "outputs": [
    {
     "data": {
      "text/plain": [
       "<AxesSubplot:>"
      ]
     },
     "execution_count": 85,
     "metadata": {},
     "output_type": "execute_result"
    },
    {
     "data": {
      "image/png": "[encoded data removed]",
      "text/plain": [
       "<Figure size 864x576 with 1 Axes>"
      ]
     },
     "metadata": {},
     "output_type": "display_data"
    }
   ],
   "source": [
    "film_df['rental_duration'].value_counts().sort_values(ascending=False).plot(kind='bar',figsize=(12,8))"
   ]
  },
  {
   "cell_type": "code",
   "execution_count": 86,
   "id": "a419a550",
   "metadata": {},
   "outputs": [
    {
     "data": {
      "text/plain": [
       "<AxesSubplot:>"
      ]
     },
     "execution_count": 86,
     "metadata": {},
     "output_type": "execute_result"
    },
    {
     "data": {
      "image/png": "[encoded data removed]",
      "text/plain": [
       "<Figure size 864x576 with 1 Axes>"
      ]
     },
     "metadata": {},
     "output_type": "display_data"
    }
   ],
   "source": [
    "film_df['rental_rate'].value_counts().sort_values(ascending=False).plot(kind='bar',figsize=(12,8))"
   ]
  },
  {
   "cell_type": "code",
   "execution_count": 89,
   "id": "b4737879",
   "metadata": {},
   "outputs": [
    {
     "name": "stderr",
     "output_type": "stream",
     "text": [
      "C:\\ProgramData\\Anaconda3\\lib\\site-packages\\seaborn\\_decorators.py:36: FutureWarning: Pass the following variable as a keyword arg: x. From version 0.12, the only valid positional argument will be `data`, and passing other arguments without an explicit keyword will result in an error or misinterpretation.\n",
      "  warnings.warn(\n"
     ]
    },
    {
     "data": {
      "text/plain": [
       "<matplotlib.legend.Legend at 0x191dc56d3d0>"
      ]
     },
     "execution_count": 89,
     "metadata": {},
     "output_type": "execute_result"
    },
    {
     "data": {
      "image/png": "[encoded data removed]",
      "text/plain": [
       "<Figure size 432x288 with 1 Axes>"
      ]
     },
     "metadata": {},
     "output_type": "display_data"
    }
   ],
   "source": [
    "sns.countplot(film_df['rental_rate'],hue=film_df['rental_duration'])\n",
    "plt.legend(bbox_to_anchor=(1,.5))"
   ]
  },
  {
   "cell_type": "code",
   "execution_count": 94,
   "id": "284e7164",
   "metadata": {},
   "outputs": [
    {
     "name": "stderr",
     "output_type": "stream",
     "text": [
      "C:\\ProgramData\\Anaconda3\\lib\\site-packages\\seaborn\\_decorators.py:36: FutureWarning: Pass the following variable as a keyword arg: x. From version 0.12, the only valid positional argument will be `data`, and passing other arguments without an explicit keyword will result in an error or misinterpretation.\n",
      "  warnings.warn(\n"
     ]
    },
    {
     "data": {
      "image/png": "[encoded data removed]",
      "text/plain": [
       "<Figure size 864x576 with 1 Axes>"
      ]
     },
     "metadata": {},
     "output_type": "display_data"
    }
   ],
   "source": [
    "plt.figure(figsize=(12,8))\n",
    "sns.countplot(film_df['special_features'])\n",
    "plt.xticks(rotation=45)\n",
    "plt.show()"
   ]
  },
  {
   "cell_type": "code",
   "execution_count": 96,
   "id": "dfd1d7a1",
   "metadata": {},
   "outputs": [
    {
     "data": {
      "text/plain": [
       "Index(['film_id', 'title', 'description', 'release_year', 'language_id',\n",
       "       'rental_duration', 'rental_rate', 'length', 'replacement_cost',\n",
       "       'rating', 'last_update', 'special_features', 'fulltext'],\n",
       "      dtype='object')"
      ]
     },
     "execution_count": 96,
     "metadata": {},
     "output_type": "execute_result"
    }
   ],
   "source": [
    "film_df.columns"
   ]
  },
  {
   "cell_type": "markdown",
   "id": "f68b2fa7",
   "metadata": {},
   "source": [
    "### Let's do some further analysis on data..."
   ]
  },
  {
   "cell_type": "code",
   "execution_count": 108,
   "id": "3375ab4f",
   "metadata": {},
   "outputs": [
    {
     "data": {
      "text/html": [
       "<div>\n",
       "<style scoped>\n",
       "    .dataframe tbody tr th:only-of-type {\n",
       "        vertical-align: middle;\n",
       "    }\n",
       "\n",
       "    .dataframe tbody tr th {\n",
       "        vertical-align: top;\n",
       "    }\n",
       "\n",
       "    .dataframe thead th {\n",
       "        text-align: right;\n",
       "    }\n",
       "</style>\n",
       "<table border=\"1\" class=\"dataframe\">\n",
       "  <thead>\n",
       "    <tr style=\"text-align: right;\">\n",
       "      <th>rating</th>\n",
       "      <th>NC-17</th>\n",
       "      <th>PG-13</th>\n",
       "    </tr>\n",
       "    <tr>\n",
       "      <th>rental_rate</th>\n",
       "      <th></th>\n",
       "      <th></th>\n",
       "    </tr>\n",
       "  </thead>\n",
       "  <tbody>\n",
       "    <tr>\n",
       "      <th>0.99</th>\n",
       "      <td>511.315068</td>\n",
       "      <td>547.694444</td>\n",
       "    </tr>\n",
       "    <tr>\n",
       "      <th>2.99</th>\n",
       "      <td>458.000000</td>\n",
       "      <td>508.459459</td>\n",
       "    </tr>\n",
       "    <tr>\n",
       "      <th>4.99</th>\n",
       "      <td>438.338028</td>\n",
       "      <td>544.753247</td>\n",
       "    </tr>\n",
       "  </tbody>\n",
       "</table>\n",
       "</div>"
      ],
      "text/plain": [
       "rating            NC-17       PG-13\n",
       "rental_rate                        \n",
       "0.99         511.315068  547.694444\n",
       "2.99         458.000000  508.459459\n",
       "4.99         438.338028  544.753247"
      ]
     },
     "execution_count": 108,
     "metadata": {},
     "output_type": "execute_result"
    }
   ],
   "source": [
    "film_df.pivot_table(columns='rating',index='rental_rate',values='film_id')[['NC-17','PG-13']]"
   ]
  },
  {
   "cell_type": "code",
   "execution_count": 119,
   "id": "3ab700e6",
   "metadata": {},
   "outputs": [
    {
     "data": {
      "text/html": [
       "<div>\n",
       "<style scoped>\n",
       "    .dataframe tbody tr th:only-of-type {\n",
       "        vertical-align: middle;\n",
       "    }\n",
       "\n",
       "    .dataframe tbody tr th {\n",
       "        vertical-align: top;\n",
       "    }\n",
       "\n",
       "    .dataframe thead th {\n",
       "        text-align: right;\n",
       "    }\n",
       "</style>\n",
       "<table border=\"1\" class=\"dataframe\">\n",
       "  <thead>\n",
       "    <tr style=\"text-align: right;\">\n",
       "      <th>rental_rate</th>\n",
       "      <th>0.99</th>\n",
       "      <th>2.99</th>\n",
       "      <th>4.99</th>\n",
       "    </tr>\n",
       "    <tr>\n",
       "      <th>replacement_cost</th>\n",
       "      <th></th>\n",
       "      <th></th>\n",
       "      <th></th>\n",
       "    </tr>\n",
       "  </thead>\n",
       "  <tbody>\n",
       "    <tr>\n",
       "      <th>9.99</th>\n",
       "      <td>996</td>\n",
       "      <td>912</td>\n",
       "      <td>915</td>\n",
       "    </tr>\n",
       "    <tr>\n",
       "      <th>10.99</th>\n",
       "      <td>998</td>\n",
       "      <td>993</td>\n",
       "      <td>979</td>\n",
       "    </tr>\n",
       "    <tr>\n",
       "      <th>11.99</th>\n",
       "      <td>970</td>\n",
       "      <td>926</td>\n",
       "      <td>995</td>\n",
       "    </tr>\n",
       "    <tr>\n",
       "      <th>12.99</th>\n",
       "      <td>978</td>\n",
       "      <td>923</td>\n",
       "      <td>980</td>\n",
       "    </tr>\n",
       "    <tr>\n",
       "      <th>13.99</th>\n",
       "      <td>990</td>\n",
       "      <td>987</td>\n",
       "      <td>903</td>\n",
       "    </tr>\n",
       "    <tr>\n",
       "      <th>14.99</th>\n",
       "      <td>997</td>\n",
       "      <td>937</td>\n",
       "      <td>946</td>\n",
       "    </tr>\n",
       "    <tr>\n",
       "      <th>15.99</th>\n",
       "      <td>924</td>\n",
       "      <td>960</td>\n",
       "      <td>843</td>\n",
       "    </tr>\n",
       "    <tr>\n",
       "      <th>16.99</th>\n",
       "      <td>947</td>\n",
       "      <td>928</td>\n",
       "      <td>844</td>\n",
       "    </tr>\n",
       "    <tr>\n",
       "      <th>17.99</th>\n",
       "      <td>992</td>\n",
       "      <td>952</td>\n",
       "      <td>964</td>\n",
       "    </tr>\n",
       "    <tr>\n",
       "      <th>18.99</th>\n",
       "      <td>813</td>\n",
       "      <td>983</td>\n",
       "      <td>1000</td>\n",
       "    </tr>\n",
       "    <tr>\n",
       "      <th>19.99</th>\n",
       "      <td>940</td>\n",
       "      <td>958</td>\n",
       "      <td>985</td>\n",
       "    </tr>\n",
       "    <tr>\n",
       "      <th>20.99</th>\n",
       "      <td>913</td>\n",
       "      <td>984</td>\n",
       "      <td>934</td>\n",
       "    </tr>\n",
       "    <tr>\n",
       "      <th>21.99</th>\n",
       "      <td>932</td>\n",
       "      <td>936</td>\n",
       "      <td>929</td>\n",
       "    </tr>\n",
       "    <tr>\n",
       "      <th>22.99</th>\n",
       "      <td>948</td>\n",
       "      <td>975</td>\n",
       "      <td>989</td>\n",
       "    </tr>\n",
       "    <tr>\n",
       "      <th>23.99</th>\n",
       "      <td>982</td>\n",
       "      <td>930</td>\n",
       "      <td>956</td>\n",
       "    </tr>\n",
       "    <tr>\n",
       "      <th>24.99</th>\n",
       "      <td>974</td>\n",
       "      <td>986</td>\n",
       "      <td>972</td>\n",
       "    </tr>\n",
       "    <tr>\n",
       "      <th>25.99</th>\n",
       "      <td>862</td>\n",
       "      <td>977</td>\n",
       "      <td>878</td>\n",
       "    </tr>\n",
       "    <tr>\n",
       "      <th>26.99</th>\n",
       "      <td>840</td>\n",
       "      <td>991</td>\n",
       "      <td>957</td>\n",
       "    </tr>\n",
       "    <tr>\n",
       "      <th>27.99</th>\n",
       "      <td>949</td>\n",
       "      <td>872</td>\n",
       "      <td>973</td>\n",
       "    </tr>\n",
       "    <tr>\n",
       "      <th>28.99</th>\n",
       "      <td>965</td>\n",
       "      <td>999</td>\n",
       "      <td>889</td>\n",
       "    </tr>\n",
       "    <tr>\n",
       "      <th>29.99</th>\n",
       "      <td>901</td>\n",
       "      <td>921</td>\n",
       "      <td>994</td>\n",
       "    </tr>\n",
       "  </tbody>\n",
       "</table>\n",
       "</div>"
      ],
      "text/plain": [
       "rental_rate       0.99  2.99  4.99\n",
       "replacement_cost                  \n",
       "9.99               996   912   915\n",
       "10.99              998   993   979\n",
       "11.99              970   926   995\n",
       "12.99              978   923   980\n",
       "13.99              990   987   903\n",
       "14.99              997   937   946\n",
       "15.99              924   960   843\n",
       "16.99              947   928   844\n",
       "17.99              992   952   964\n",
       "18.99              813   983  1000\n",
       "19.99              940   958   985\n",
       "20.99              913   984   934\n",
       "21.99              932   936   929\n",
       "22.99              948   975   989\n",
       "23.99              982   930   956\n",
       "24.99              974   986   972\n",
       "25.99              862   977   878\n",
       "26.99              840   991   957\n",
       "27.99              949   872   973\n",
       "28.99              965   999   889\n",
       "29.99              901   921   994"
      ]
     },
     "execution_count": 119,
     "metadata": {},
     "output_type": "execute_result"
    }
   ],
   "source": [
    "film_df.pivot_table(columns='rental_rate',index='replacement_cost',values='film_id',aggfunc=np.max)"
   ]
  },
  {
   "cell_type": "code",
   "execution_count": 111,
   "id": "d91d3eee",
   "metadata": {},
   "outputs": [
    {
     "data": {
      "text/html": [
       "<div>\n",
       "<style scoped>\n",
       "    .dataframe tbody tr th:only-of-type {\n",
       "        vertical-align: middle;\n",
       "    }\n",
       "\n",
       "    .dataframe tbody tr th {\n",
       "        vertical-align: top;\n",
       "    }\n",
       "\n",
       "    .dataframe thead th {\n",
       "        text-align: right;\n",
       "    }\n",
       "</style>\n",
       "<table border=\"1\" class=\"dataframe\">\n",
       "  <thead>\n",
       "    <tr style=\"text-align: right;\">\n",
       "      <th>rating</th>\n",
       "      <th>G</th>\n",
       "      <th>NC-17</th>\n",
       "      <th>PG</th>\n",
       "      <th>PG-13</th>\n",
       "      <th>R</th>\n",
       "    </tr>\n",
       "    <tr>\n",
       "      <th>special_features</th>\n",
       "      <th></th>\n",
       "      <th></th>\n",
       "      <th></th>\n",
       "      <th></th>\n",
       "      <th></th>\n",
       "    </tr>\n",
       "  </thead>\n",
       "  <tbody>\n",
       "    <tr>\n",
       "      <th>{\"Behind the Scenes\"}</th>\n",
       "      <td>4700</td>\n",
       "      <td>4231</td>\n",
       "      <td>8798</td>\n",
       "      <td>8831</td>\n",
       "      <td>8465</td>\n",
       "    </tr>\n",
       "    <tr>\n",
       "      <th>{\"Deleted Scenes\",\"Behind the Scenes\"}</th>\n",
       "      <td>6491</td>\n",
       "      <td>7946</td>\n",
       "      <td>6174</td>\n",
       "      <td>8586</td>\n",
       "      <td>9454</td>\n",
       "    </tr>\n",
       "    <tr>\n",
       "      <th>{\"Deleted Scenes\"}</th>\n",
       "      <td>5568</td>\n",
       "      <td>4520</td>\n",
       "      <td>4221</td>\n",
       "      <td>6845</td>\n",
       "      <td>6711</td>\n",
       "    </tr>\n",
       "    <tr>\n",
       "      <th>{Commentaries,\"Behind the Scenes\"}</th>\n",
       "      <td>6184</td>\n",
       "      <td>9771</td>\n",
       "      <td>8963</td>\n",
       "      <td>8683</td>\n",
       "      <td>3637</td>\n",
       "    </tr>\n",
       "    <tr>\n",
       "      <th>{Commentaries,\"Deleted Scenes\",\"Behind the Scenes\"}</th>\n",
       "      <td>2870</td>\n",
       "      <td>8614</td>\n",
       "      <td>7788</td>\n",
       "      <td>9150</td>\n",
       "      <td>5295</td>\n",
       "    </tr>\n",
       "    <tr>\n",
       "      <th>{Commentaries,\"Deleted Scenes\"}</th>\n",
       "      <td>4513</td>\n",
       "      <td>7770</td>\n",
       "      <td>7765</td>\n",
       "      <td>7112</td>\n",
       "      <td>7679</td>\n",
       "    </tr>\n",
       "    <tr>\n",
       "      <th>{Commentaries}</th>\n",
       "      <td>4918</td>\n",
       "      <td>5152</td>\n",
       "      <td>8488</td>\n",
       "      <td>7014</td>\n",
       "      <td>8127</td>\n",
       "    </tr>\n",
       "    <tr>\n",
       "      <th>{Trailers,\"Behind the Scenes\"}</th>\n",
       "      <td>4593</td>\n",
       "      <td>7103</td>\n",
       "      <td>5189</td>\n",
       "      <td>9253</td>\n",
       "      <td>8913</td>\n",
       "    </tr>\n",
       "    <tr>\n",
       "      <th>{Trailers,\"Deleted Scenes\",\"Behind the Scenes\"}</th>\n",
       "      <td>4146</td>\n",
       "      <td>3066</td>\n",
       "      <td>8541</td>\n",
       "      <td>2872</td>\n",
       "      <td>3924</td>\n",
       "    </tr>\n",
       "    <tr>\n",
       "      <th>{Trailers,\"Deleted Scenes\"}</th>\n",
       "      <td>4026</td>\n",
       "      <td>6782</td>\n",
       "      <td>6156</td>\n",
       "      <td>6646</td>\n",
       "      <td>6685</td>\n",
       "    </tr>\n",
       "    <tr>\n",
       "      <th>{Trailers,Commentaries,\"Behind the Scenes\"}</th>\n",
       "      <td>4566</td>\n",
       "      <td>10007</td>\n",
       "      <td>7029</td>\n",
       "      <td>9336</td>\n",
       "      <td>6015</td>\n",
       "    </tr>\n",
       "    <tr>\n",
       "      <th>{Trailers,Commentaries,\"Deleted Scenes\",\"Behind the Scenes\"}</th>\n",
       "      <td>8367</td>\n",
       "      <td>5362</td>\n",
       "      <td>6082</td>\n",
       "      <td>6143</td>\n",
       "      <td>7097</td>\n",
       "    </tr>\n",
       "    <tr>\n",
       "      <th>{Trailers,Commentaries,\"Deleted Scenes\"}</th>\n",
       "      <td>5024</td>\n",
       "      <td>4947</td>\n",
       "      <td>7653</td>\n",
       "      <td>7975</td>\n",
       "      <td>5372</td>\n",
       "    </tr>\n",
       "    <tr>\n",
       "      <th>{Trailers,Commentaries}</th>\n",
       "      <td>6015</td>\n",
       "      <td>7053</td>\n",
       "      <td>7154</td>\n",
       "      <td>9606</td>\n",
       "      <td>5875</td>\n",
       "    </tr>\n",
       "    <tr>\n",
       "      <th>{Trailers}</th>\n",
       "      <td>7396</td>\n",
       "      <td>6352</td>\n",
       "      <td>4731</td>\n",
       "      <td>10954</td>\n",
       "      <td>5460</td>\n",
       "    </tr>\n",
       "  </tbody>\n",
       "</table>\n",
       "</div>"
      ],
      "text/plain": [
       "rating                                                 G  NC-17    PG  PG-13  \\\n",
       "special_features                                                               \n",
       "{\"Behind the Scenes\"}                               4700   4231  8798   8831   \n",
       "{\"Deleted Scenes\",\"Behind the Scenes\"}              6491   7946  6174   8586   \n",
       "{\"Deleted Scenes\"}                                  5568   4520  4221   6845   \n",
       "{Commentaries,\"Behind the Scenes\"}                  6184   9771  8963   8683   \n",
       "{Commentaries,\"Deleted Scenes\",\"Behind the Scen...  2870   8614  7788   9150   \n",
       "{Commentaries,\"Deleted Scenes\"}                     4513   7770  7765   7112   \n",
       "{Commentaries}                                      4918   5152  8488   7014   \n",
       "{Trailers,\"Behind the Scenes\"}                      4593   7103  5189   9253   \n",
       "{Trailers,\"Deleted Scenes\",\"Behind the Scenes\"}     4146   3066  8541   2872   \n",
       "{Trailers,\"Deleted Scenes\"}                         4026   6782  6156   6646   \n",
       "{Trailers,Commentaries,\"Behind the Scenes\"}         4566  10007  7029   9336   \n",
       "{Trailers,Commentaries,\"Deleted Scenes\",\"Behind...  8367   5362  6082   6143   \n",
       "{Trailers,Commentaries,\"Deleted Scenes\"}            5024   4947  7653   7975   \n",
       "{Trailers,Commentaries}                             6015   7053  7154   9606   \n",
       "{Trailers}                                          7396   6352  4731  10954   \n",
       "\n",
       "rating                                                 R  \n",
       "special_features                                          \n",
       "{\"Behind the Scenes\"}                               8465  \n",
       "{\"Deleted Scenes\",\"Behind the Scenes\"}              9454  \n",
       "{\"Deleted Scenes\"}                                  6711  \n",
       "{Commentaries,\"Behind the Scenes\"}                  3637  \n",
       "{Commentaries,\"Deleted Scenes\",\"Behind the Scen...  5295  \n",
       "{Commentaries,\"Deleted Scenes\"}                     7679  \n",
       "{Commentaries}                                      8127  \n",
       "{Trailers,\"Behind the Scenes\"}                      8913  \n",
       "{Trailers,\"Deleted Scenes\",\"Behind the Scenes\"}     3924  \n",
       "{Trailers,\"Deleted Scenes\"}                         6685  \n",
       "{Trailers,Commentaries,\"Behind the Scenes\"}         6015  \n",
       "{Trailers,Commentaries,\"Deleted Scenes\",\"Behind...  7097  \n",
       "{Trailers,Commentaries,\"Deleted Scenes\"}            5372  \n",
       "{Trailers,Commentaries}                             5875  \n",
       "{Trailers}                                          5460  "
      ]
     },
     "execution_count": 111,
     "metadata": {},
     "output_type": "execute_result"
    }
   ],
   "source": [
    "film_df.pivot_table(columns='rating',index='special_features',values='film_id',aggfunc=sum)"
   ]
  },
  {
   "cell_type": "code",
   "execution_count": 128,
   "id": "a70508c6",
   "metadata": {},
   "outputs": [
    {
     "data": {
      "text/plain": [
       "<AxesSubplot:xlabel='rating'>"
      ]
     },
     "execution_count": 128,
     "metadata": {},
     "output_type": "execute_result"
    },
    {
     "data": {
      "image/png": "[encoded data removed]",
      "text/plain": [
       "<Figure size 432x288 with 1 Axes>"
      ]
     },
     "metadata": {},
     "output_type": "display_data"
    }
   ],
   "source": [
    "film_df.groupby(by='rating').count()['title'].plot(kind='bar')"
   ]
  },
  {
   "cell_type": "code",
   "execution_count": 132,
   "id": "e07efc66",
   "metadata": {},
   "outputs": [
    {
     "data": {
      "text/html": [
       "<div>\n",
       "<style scoped>\n",
       "    .dataframe tbody tr th:only-of-type {\n",
       "        vertical-align: middle;\n",
       "    }\n",
       "\n",
       "    .dataframe tbody tr th {\n",
       "        vertical-align: top;\n",
       "    }\n",
       "\n",
       "    .dataframe thead th {\n",
       "        text-align: right;\n",
       "    }\n",
       "</style>\n",
       "<table border=\"1\" class=\"dataframe\">\n",
       "  <thead>\n",
       "    <tr style=\"text-align: right;\">\n",
       "      <th>rating</th>\n",
       "      <th>G</th>\n",
       "      <th>NC-17</th>\n",
       "      <th>PG</th>\n",
       "      <th>PG-13</th>\n",
       "      <th>R</th>\n",
       "    </tr>\n",
       "    <tr>\n",
       "      <th>replacement_cost</th>\n",
       "      <th></th>\n",
       "      <th></th>\n",
       "      <th></th>\n",
       "      <th></th>\n",
       "      <th></th>\n",
       "    </tr>\n",
       "  </thead>\n",
       "  <tbody>\n",
       "    <tr>\n",
       "      <th>9.99</th>\n",
       "      <td>7</td>\n",
       "      <td>8</td>\n",
       "      <td>9</td>\n",
       "      <td>10</td>\n",
       "      <td>7</td>\n",
       "    </tr>\n",
       "    <tr>\n",
       "      <th>10.99</th>\n",
       "      <td>10</td>\n",
       "      <td>12</td>\n",
       "      <td>8</td>\n",
       "      <td>13</td>\n",
       "      <td>6</td>\n",
       "    </tr>\n",
       "    <tr>\n",
       "      <th>11.99</th>\n",
       "      <td>5</td>\n",
       "      <td>11</td>\n",
       "      <td>14</td>\n",
       "      <td>10</td>\n",
       "      <td>9</td>\n",
       "    </tr>\n",
       "    <tr>\n",
       "      <th>12.99</th>\n",
       "      <td>12</td>\n",
       "      <td>7</td>\n",
       "      <td>13</td>\n",
       "      <td>12</td>\n",
       "      <td>11</td>\n",
       "    </tr>\n",
       "    <tr>\n",
       "      <th>13.99</th>\n",
       "      <td>13</td>\n",
       "      <td>12</td>\n",
       "      <td>10</td>\n",
       "      <td>12</td>\n",
       "      <td>8</td>\n",
       "    </tr>\n",
       "    <tr>\n",
       "      <th>14.99</th>\n",
       "      <td>8</td>\n",
       "      <td>11</td>\n",
       "      <td>12</td>\n",
       "      <td>9</td>\n",
       "      <td>11</td>\n",
       "    </tr>\n",
       "    <tr>\n",
       "      <th>15.99</th>\n",
       "      <td>10</td>\n",
       "      <td>5</td>\n",
       "      <td>9</td>\n",
       "      <td>4</td>\n",
       "      <td>9</td>\n",
       "    </tr>\n",
       "    <tr>\n",
       "      <th>16.99</th>\n",
       "      <td>8</td>\n",
       "      <td>8</td>\n",
       "      <td>7</td>\n",
       "      <td>9</td>\n",
       "      <td>6</td>\n",
       "    </tr>\n",
       "    <tr>\n",
       "      <th>17.99</th>\n",
       "      <td>7</td>\n",
       "      <td>10</td>\n",
       "      <td>13</td>\n",
       "      <td>9</td>\n",
       "      <td>8</td>\n",
       "    </tr>\n",
       "    <tr>\n",
       "      <th>18.99</th>\n",
       "      <td>7</td>\n",
       "      <td>7</td>\n",
       "      <td>10</td>\n",
       "      <td>9</td>\n",
       "      <td>9</td>\n",
       "    </tr>\n",
       "    <tr>\n",
       "      <th>19.99</th>\n",
       "      <td>8</td>\n",
       "      <td>11</td>\n",
       "      <td>8</td>\n",
       "      <td>13</td>\n",
       "      <td>10</td>\n",
       "    </tr>\n",
       "    <tr>\n",
       "      <th>20.99</th>\n",
       "      <td>8</td>\n",
       "      <td>9</td>\n",
       "      <td>15</td>\n",
       "      <td>8</td>\n",
       "      <td>17</td>\n",
       "    </tr>\n",
       "    <tr>\n",
       "      <th>21.99</th>\n",
       "      <td>6</td>\n",
       "      <td>13</td>\n",
       "      <td>10</td>\n",
       "      <td>15</td>\n",
       "      <td>11</td>\n",
       "    </tr>\n",
       "    <tr>\n",
       "      <th>22.99</th>\n",
       "      <td>7</td>\n",
       "      <td>16</td>\n",
       "      <td>10</td>\n",
       "      <td>8</td>\n",
       "      <td>14</td>\n",
       "    </tr>\n",
       "    <tr>\n",
       "      <th>23.99</th>\n",
       "      <td>6</td>\n",
       "      <td>15</td>\n",
       "      <td>6</td>\n",
       "      <td>8</td>\n",
       "      <td>10</td>\n",
       "    </tr>\n",
       "    <tr>\n",
       "      <th>24.99</th>\n",
       "      <td>6</td>\n",
       "      <td>7</td>\n",
       "      <td>8</td>\n",
       "      <td>12</td>\n",
       "      <td>5</td>\n",
       "    </tr>\n",
       "    <tr>\n",
       "      <th>25.99</th>\n",
       "      <td>9</td>\n",
       "      <td>10</td>\n",
       "      <td>8</td>\n",
       "      <td>9</td>\n",
       "      <td>7</td>\n",
       "    </tr>\n",
       "    <tr>\n",
       "      <th>26.99</th>\n",
       "      <td>8</td>\n",
       "      <td>13</td>\n",
       "      <td>4</td>\n",
       "      <td>12</td>\n",
       "      <td>9</td>\n",
       "    </tr>\n",
       "    <tr>\n",
       "      <th>27.99</th>\n",
       "      <td>8</td>\n",
       "      <td>8</td>\n",
       "      <td>11</td>\n",
       "      <td>15</td>\n",
       "      <td>11</td>\n",
       "    </tr>\n",
       "    <tr>\n",
       "      <th>28.99</th>\n",
       "      <td>8</td>\n",
       "      <td>9</td>\n",
       "      <td>5</td>\n",
       "      <td>12</td>\n",
       "      <td>7</td>\n",
       "    </tr>\n",
       "    <tr>\n",
       "      <th>29.99</th>\n",
       "      <td>17</td>\n",
       "      <td>8</td>\n",
       "      <td>4</td>\n",
       "      <td>14</td>\n",
       "      <td>10</td>\n",
       "    </tr>\n",
       "  </tbody>\n",
       "</table>\n",
       "</div>"
      ],
      "text/plain": [
       "rating             G  NC-17  PG  PG-13   R\n",
       "replacement_cost                          \n",
       "9.99               7      8   9     10   7\n",
       "10.99             10     12   8     13   6\n",
       "11.99              5     11  14     10   9\n",
       "12.99             12      7  13     12  11\n",
       "13.99             13     12  10     12   8\n",
       "14.99              8     11  12      9  11\n",
       "15.99             10      5   9      4   9\n",
       "16.99              8      8   7      9   6\n",
       "17.99              7     10  13      9   8\n",
       "18.99              7      7  10      9   9\n",
       "19.99              8     11   8     13  10\n",
       "20.99              8      9  15      8  17\n",
       "21.99              6     13  10     15  11\n",
       "22.99              7     16  10      8  14\n",
       "23.99              6     15   6      8  10\n",
       "24.99              6      7   8     12   5\n",
       "25.99              9     10   8      9   7\n",
       "26.99              8     13   4     12   9\n",
       "27.99              8      8  11     15  11\n",
       "28.99              8      9   5     12   7\n",
       "29.99             17      8   4     14  10"
      ]
     },
     "execution_count": 132,
     "metadata": {},
     "output_type": "execute_result"
    }
   ],
   "source": [
    "film_df.groupby(by=['replacement_cost','rating']).count()['title'].unstack()\n",
    "#unstack with gruop by create pivot table.."
   ]
  },
  {
   "cell_type": "code",
   "execution_count": 147,
   "id": "d48aa3cd",
   "metadata": {},
   "outputs": [
    {
     "data": {
      "text/plain": [
       "<AxesSubplot:xlabel='rating', ylabel='replacement_cost'>"
      ]
     },
     "execution_count": 147,
     "metadata": {},
     "output_type": "execute_result"
    },
    {
     "data": {
      "image/png": "[encoded data removed]",
      "text/plain": [
       "<Figure size 864x864 with 2 Axes>"
      ]
     },
     "metadata": {},
     "output_type": "display_data"
    }
   ],
   "source": [
    "plt.figure(figsize=(12,12))\n",
    "sns.heatmap(film_df.groupby(by=['replacement_cost','rating']).count()['title'].unstack(),annot=True,linewidths=1)"
   ]
  },
  {
   "cell_type": "code",
   "execution_count": 157,
   "id": "d5fbd719",
   "metadata": {},
   "outputs": [
    {
     "data": {
      "text/plain": [
       "<AxesSubplot:xlabel='rating', ylabel='rental_duration'>"
      ]
     },
     "execution_count": 157,
     "metadata": {},
     "output_type": "execute_result"
    },
    {
     "data": {
      "image/png": "[encoded data removed]",
      "text/plain": [
       "<Figure size 864x864 with 2 Axes>"
      ]
     },
     "metadata": {},
     "output_type": "display_data"
    }
   ],
   "source": [
    "plt.figure(figsize=(12,12))\n",
    "sns.heatmap(film_df.groupby(by=['rental_duration','rating']).count()['title'].unstack(),annot=True,linewidths=1,cmap='viridis',)"
   ]
  },
  {
   "cell_type": "code",
   "execution_count": 155,
   "id": "420abb92",
   "metadata": {},
   "outputs": [
    {
     "data": {
      "text/plain": [
       "<seaborn.matrix.ClusterGrid at 0x191db149fa0>"
      ]
     },
     "execution_count": 155,
     "metadata": {},
     "output_type": "execute_result"
    },
    {
     "data": {
      "image/png": "[encoded data removed]",
      "text/plain": [
       "<Figure size 720x720 with 4 Axes>"
      ]
     },
     "metadata": {},
     "output_type": "display_data"
    }
   ],
   "source": [
    "sns.clustermap(film_df.groupby(by=['rental_duration','rating']).count()['title'].unstack(),annot=True,cmap='YlOrBr')"
   ]
  },
  {
   "cell_type": "markdown",
   "id": "c05aeaca",
   "metadata": {},
   "source": [
    "### B. Let's analyze Actor Dataframe..."
   ]
  },
  {
   "cell_type": "code",
   "execution_count": 158,
   "id": "de6ab81b",
   "metadata": {},
   "outputs": [
    {
     "data": {
      "text/html": [
       "<div>\n",
       "<style scoped>\n",
       "    .dataframe tbody tr th:only-of-type {\n",
       "        vertical-align: middle;\n",
       "    }\n",
       "\n",
       "    .dataframe tbody tr th {\n",
       "        vertical-align: top;\n",
       "    }\n",
       "\n",
       "    .dataframe thead th {\n",
       "        text-align: right;\n",
       "    }\n",
       "</style>\n",
       "<table border=\"1\" class=\"dataframe\">\n",
       "  <thead>\n",
       "    <tr style=\"text-align: right;\">\n",
       "      <th></th>\n",
       "      <th>actor_id</th>\n",
       "      <th>first_name</th>\n",
       "      <th>last_name</th>\n",
       "      <th>last_update</th>\n",
       "    </tr>\n",
       "  </thead>\n",
       "  <tbody>\n",
       "    <tr>\n",
       "      <th>0</th>\n",
       "      <td>1</td>\n",
       "      <td>Penelope</td>\n",
       "      <td>Guiness</td>\n",
       "      <td>2013-05-26 14:47:57.62</td>\n",
       "    </tr>\n",
       "    <tr>\n",
       "      <th>1</th>\n",
       "      <td>2</td>\n",
       "      <td>Nick</td>\n",
       "      <td>Wahlberg</td>\n",
       "      <td>2013-05-26 14:47:57.62</td>\n",
       "    </tr>\n",
       "    <tr>\n",
       "      <th>2</th>\n",
       "      <td>3</td>\n",
       "      <td>Ed</td>\n",
       "      <td>Chase</td>\n",
       "      <td>2013-05-26 14:47:57.62</td>\n",
       "    </tr>\n",
       "    <tr>\n",
       "      <th>3</th>\n",
       "      <td>4</td>\n",
       "      <td>Jennifer</td>\n",
       "      <td>Davis</td>\n",
       "      <td>2013-05-26 14:47:57.62</td>\n",
       "    </tr>\n",
       "    <tr>\n",
       "      <th>4</th>\n",
       "      <td>5</td>\n",
       "      <td>Johnny</td>\n",
       "      <td>Lollobrigida</td>\n",
       "      <td>2013-05-26 14:47:57.62</td>\n",
       "    </tr>\n",
       "  </tbody>\n",
       "</table>\n",
       "</div>"
      ],
      "text/plain": [
       "   actor_id first_name     last_name             last_update\n",
       "0         1   Penelope       Guiness  2013-05-26 14:47:57.62\n",
       "1         2       Nick      Wahlberg  2013-05-26 14:47:57.62\n",
       "2         3         Ed         Chase  2013-05-26 14:47:57.62\n",
       "3         4   Jennifer         Davis  2013-05-26 14:47:57.62\n",
       "4         5     Johnny  Lollobrigida  2013-05-26 14:47:57.62"
      ]
     },
     "execution_count": 158,
     "metadata": {},
     "output_type": "execute_result"
    }
   ],
   "source": [
    "actor_df.head()"
   ]
  },
  {
   "cell_type": "code",
   "execution_count": 159,
   "id": "2f699cc8",
   "metadata": {},
   "outputs": [
    {
     "data": {
      "text/plain": [
       "(200, 4)"
      ]
     },
     "execution_count": 159,
     "metadata": {},
     "output_type": "execute_result"
    }
   ],
   "source": [
    "actor_df.shape"
   ]
  },
  {
   "cell_type": "code",
   "execution_count": 161,
   "id": "2696bae6",
   "metadata": {},
   "outputs": [
    {
     "data": {
      "text/plain": [
       "Index(['actor_id', 'first_name', 'last_name', 'last_update'], dtype='object')"
      ]
     },
     "execution_count": 161,
     "metadata": {},
     "output_type": "execute_result"
    }
   ],
   "source": [
    "actor_df.columns"
   ]
  },
  {
   "cell_type": "code",
   "execution_count": 163,
   "id": "decb70f2",
   "metadata": {},
   "outputs": [
    {
     "data": {
      "text/plain": [
       "200"
      ]
     },
     "execution_count": 163,
     "metadata": {},
     "output_type": "execute_result"
    }
   ],
   "source": [
    "actor_df['actor_id'].nunique()"
   ]
  },
  {
   "cell_type": "code",
   "execution_count": 164,
   "id": "01852edb",
   "metadata": {},
   "outputs": [
    {
     "data": {
      "text/plain": [
       "128"
      ]
     },
     "execution_count": 164,
     "metadata": {},
     "output_type": "execute_result"
    }
   ],
   "source": [
    "actor_df['first_name'].nunique()"
   ]
  },
  {
   "cell_type": "code",
   "execution_count": 165,
   "id": "fbe3c3c3",
   "metadata": {},
   "outputs": [
    {
     "data": {
      "text/plain": [
       "121"
      ]
     },
     "execution_count": 165,
     "metadata": {},
     "output_type": "execute_result"
    }
   ],
   "source": [
    "actor_df['last_name'].nunique()"
   ]
  },
  {
   "cell_type": "code",
   "execution_count": 166,
   "id": "32140bab",
   "metadata": {},
   "outputs": [
    {
     "data": {
      "text/plain": [
       "1"
      ]
     },
     "execution_count": 166,
     "metadata": {},
     "output_type": "execute_result"
    }
   ],
   "source": [
    "actor_df['last_update'].nunique()"
   ]
  },
  {
   "cell_type": "markdown",
   "id": "32fd770c",
   "metadata": {},
   "source": [
    "### C. Let's analyze Film Actor Dataframe..."
   ]
  },
  {
   "cell_type": "code",
   "execution_count": 169,
   "id": "9f6e3cde",
   "metadata": {},
   "outputs": [
    {
     "data": {
      "text/html": [
       "<div>\n",
       "<style scoped>\n",
       "    .dataframe tbody tr th:only-of-type {\n",
       "        vertical-align: middle;\n",
       "    }\n",
       "\n",
       "    .dataframe tbody tr th {\n",
       "        vertical-align: top;\n",
       "    }\n",
       "\n",
       "    .dataframe thead th {\n",
       "        text-align: right;\n",
       "    }\n",
       "</style>\n",
       "<table border=\"1\" class=\"dataframe\">\n",
       "  <thead>\n",
       "    <tr style=\"text-align: right;\">\n",
       "      <th></th>\n",
       "      <th>actor_id</th>\n",
       "      <th>film_id</th>\n",
       "      <th>last_update</th>\n",
       "    </tr>\n",
       "  </thead>\n",
       "  <tbody>\n",
       "    <tr>\n",
       "      <th>0</th>\n",
       "      <td>1</td>\n",
       "      <td>1</td>\n",
       "      <td>2006-02-15 10:05:03</td>\n",
       "    </tr>\n",
       "    <tr>\n",
       "      <th>1</th>\n",
       "      <td>1</td>\n",
       "      <td>23</td>\n",
       "      <td>2006-02-15 10:05:03</td>\n",
       "    </tr>\n",
       "    <tr>\n",
       "      <th>2</th>\n",
       "      <td>1</td>\n",
       "      <td>25</td>\n",
       "      <td>2006-02-15 10:05:03</td>\n",
       "    </tr>\n",
       "    <tr>\n",
       "      <th>3</th>\n",
       "      <td>1</td>\n",
       "      <td>106</td>\n",
       "      <td>2006-02-15 10:05:03</td>\n",
       "    </tr>\n",
       "    <tr>\n",
       "      <th>4</th>\n",
       "      <td>1</td>\n",
       "      <td>140</td>\n",
       "      <td>2006-02-15 10:05:03</td>\n",
       "    </tr>\n",
       "  </tbody>\n",
       "</table>\n",
       "</div>"
      ],
      "text/plain": [
       "   actor_id  film_id          last_update\n",
       "0         1        1  2006-02-15 10:05:03\n",
       "1         1       23  2006-02-15 10:05:03\n",
       "2         1       25  2006-02-15 10:05:03\n",
       "3         1      106  2006-02-15 10:05:03\n",
       "4         1      140  2006-02-15 10:05:03"
      ]
     },
     "execution_count": 169,
     "metadata": {},
     "output_type": "execute_result"
    }
   ],
   "source": [
    "film_actor_df.head()"
   ]
  },
  {
   "cell_type": "code",
   "execution_count": 170,
   "id": "27b9024f",
   "metadata": {},
   "outputs": [
    {
     "data": {
      "text/plain": [
       "(5462, 3)"
      ]
     },
     "execution_count": 170,
     "metadata": {},
     "output_type": "execute_result"
    }
   ],
   "source": [
    "film_actor_df.shape"
   ]
  },
  {
   "cell_type": "code",
   "execution_count": 173,
   "id": "fa22f699",
   "metadata": {},
   "outputs": [
    {
     "data": {
      "text/plain": [
       "200"
      ]
     },
     "execution_count": 173,
     "metadata": {},
     "output_type": "execute_result"
    }
   ],
   "source": [
    "film_actor_df['actor_id'].nunique()"
   ]
  },
  {
   "cell_type": "code",
   "execution_count": 174,
   "id": "67aa7643",
   "metadata": {},
   "outputs": [
    {
     "data": {
      "text/plain": [
       "997"
      ]
     },
     "execution_count": 174,
     "metadata": {},
     "output_type": "execute_result"
    }
   ],
   "source": [
    "film_actor_df['film_id'].nunique()"
   ]
  },
  {
   "cell_type": "code",
   "execution_count": 175,
   "id": "676c7397",
   "metadata": {},
   "outputs": [],
   "source": [
    "### Now let's compare 3 dataframes..."
   ]
  },
  {
   "cell_type": "code",
   "execution_count": 176,
   "id": "47fb4118",
   "metadata": {},
   "outputs": [
    {
     "data": {
      "text/plain": [
       "(1000, 13)"
      ]
     },
     "execution_count": 176,
     "metadata": {},
     "output_type": "execute_result"
    }
   ],
   "source": [
    "film_df.shape"
   ]
  },
  {
   "cell_type": "code",
   "execution_count": 177,
   "id": "03fd5a59",
   "metadata": {},
   "outputs": [
    {
     "data": {
      "text/plain": [
       "(5462, 3)"
      ]
     },
     "execution_count": 177,
     "metadata": {},
     "output_type": "execute_result"
    }
   ],
   "source": [
    "film_actor_df.shape"
   ]
  },
  {
   "cell_type": "code",
   "execution_count": 178,
   "id": "55498e07",
   "metadata": {},
   "outputs": [
    {
     "data": {
      "text/plain": [
       "(200, 4)"
      ]
     },
     "execution_count": 178,
     "metadata": {},
     "output_type": "execute_result"
    }
   ],
   "source": [
    "actor_df.shape"
   ]
  },
  {
   "cell_type": "code",
   "execution_count": null,
   "id": "7e18029c",
   "metadata": {},
   "outputs": [],
   "source": [
    "## film_df dataframe contains film_id column and film_actor_df also contains the same column..\n",
    "## Similarly actor_df contains actor_id column and film_actor_df contains the same column..\n",
    "## That means we can create a relation ship among all these dataframes..."
   ]
  },
  {
   "cell_type": "code",
   "execution_count": 179,
   "id": "14d2e346",
   "metadata": {},
   "outputs": [
    {
     "data": {
      "text/plain": [
       "1000"
      ]
     },
     "execution_count": 179,
     "metadata": {},
     "output_type": "execute_result"
    }
   ],
   "source": [
    "film_df['film_id'].nunique()"
   ]
  },
  {
   "cell_type": "code",
   "execution_count": 180,
   "id": "aeef0050",
   "metadata": {},
   "outputs": [
    {
     "data": {
      "text/plain": [
       "997"
      ]
     },
     "execution_count": 180,
     "metadata": {},
     "output_type": "execute_result"
    }
   ],
   "source": [
    "film_actor_df['film_id'].nunique()\n",
    "## Three films details is missing from this table..."
   ]
  },
  {
   "cell_type": "code",
   "execution_count": 182,
   "id": "82389ca5",
   "metadata": {},
   "outputs": [
    {
     "data": {
      "text/plain": [
       "200"
      ]
     },
     "execution_count": 182,
     "metadata": {},
     "output_type": "execute_result"
    }
   ],
   "source": [
    "actor_df['actor_id'].nunique()"
   ]
  },
  {
   "cell_type": "code",
   "execution_count": 184,
   "id": "af3cea2c",
   "metadata": {},
   "outputs": [
    {
     "data": {
      "text/plain": [
       "200"
      ]
     },
     "execution_count": 184,
     "metadata": {},
     "output_type": "execute_result"
    }
   ],
   "source": [
    "film_actor_df['actor_id'].nunique()\n",
    "## all the actor_ids are available in the film_actor_id dataframe.."
   ]
  },
  {
   "cell_type": "code",
   "execution_count": 185,
   "id": "23deb6fe",
   "metadata": {},
   "outputs": [],
   "source": [
    "##Let's merge them together..."
   ]
  },
  {
   "cell_type": "code",
   "execution_count": 188,
   "id": "b307a277",
   "metadata": {},
   "outputs": [],
   "source": [
    "merged_df=actor_df.merge(film_df.merge(film_actor_df,on='film_id'),on='actor_id')"
   ]
  },
  {
   "cell_type": "code",
   "execution_count": 189,
   "id": "add40428",
   "metadata": {},
   "outputs": [
    {
     "data": {
      "text/html": [
       "<div>\n",
       "<style scoped>\n",
       "    .dataframe tbody tr th:only-of-type {\n",
       "        vertical-align: middle;\n",
       "    }\n",
       "\n",
       "    .dataframe tbody tr th {\n",
       "        vertical-align: top;\n",
       "    }\n",
       "\n",
       "    .dataframe thead th {\n",
       "        text-align: right;\n",
       "    }\n",
       "</style>\n",
       "<table border=\"1\" class=\"dataframe\">\n",
       "  <thead>\n",
       "    <tr style=\"text-align: right;\">\n",
       "      <th></th>\n",
       "      <th>actor_id</th>\n",
       "      <th>first_name</th>\n",
       "      <th>last_name</th>\n",
       "      <th>last_update</th>\n",
       "      <th>film_id</th>\n",
       "      <th>title</th>\n",
       "      <th>description</th>\n",
       "      <th>release_year</th>\n",
       "      <th>language_id</th>\n",
       "      <th>rental_duration</th>\n",
       "      <th>rental_rate</th>\n",
       "      <th>length</th>\n",
       "      <th>replacement_cost</th>\n",
       "      <th>rating</th>\n",
       "      <th>last_update_x</th>\n",
       "      <th>special_features</th>\n",
       "      <th>fulltext</th>\n",
       "      <th>last_update_y</th>\n",
       "    </tr>\n",
       "  </thead>\n",
       "  <tbody>\n",
       "    <tr>\n",
       "      <th>0</th>\n",
       "      <td>1</td>\n",
       "      <td>Penelope</td>\n",
       "      <td>Guiness</td>\n",
       "      <td>2013-05-26 14:47:57.62</td>\n",
       "      <td>1</td>\n",
       "      <td>Academy Dinosaur</td>\n",
       "      <td>A Epic Drama of a Feminist And a Mad Scientist...</td>\n",
       "      <td>2006</td>\n",
       "      <td>1</td>\n",
       "      <td>6</td>\n",
       "      <td>0.99</td>\n",
       "      <td>86</td>\n",
       "      <td>20.99</td>\n",
       "      <td>PG</td>\n",
       "      <td>2013-05-26 14:50:58.951</td>\n",
       "      <td>{\"Deleted Scenes\",\"Behind the Scenes\"}</td>\n",
       "      <td>'academi':1 'battl':15 'canadian':20 'dinosaur...</td>\n",
       "      <td>2006-02-15 10:05:03</td>\n",
       "    </tr>\n",
       "    <tr>\n",
       "      <th>1</th>\n",
       "      <td>1</td>\n",
       "      <td>Penelope</td>\n",
       "      <td>Guiness</td>\n",
       "      <td>2013-05-26 14:47:57.62</td>\n",
       "      <td>23</td>\n",
       "      <td>Anaconda Confessions</td>\n",
       "      <td>A Lacklusture Display of a Dentist And a Denti...</td>\n",
       "      <td>2006</td>\n",
       "      <td>1</td>\n",
       "      <td>3</td>\n",
       "      <td>0.99</td>\n",
       "      <td>92</td>\n",
       "      <td>9.99</td>\n",
       "      <td>R</td>\n",
       "      <td>2013-05-26 14:50:58.951</td>\n",
       "      <td>{Trailers,\"Deleted Scenes\"}</td>\n",
       "      <td>'anaconda':1 'australia':18 'confess':2 'denti...</td>\n",
       "      <td>2006-02-15 10:05:03</td>\n",
       "    </tr>\n",
       "    <tr>\n",
       "      <th>2</th>\n",
       "      <td>1</td>\n",
       "      <td>Penelope</td>\n",
       "      <td>Guiness</td>\n",
       "      <td>2013-05-26 14:47:57.62</td>\n",
       "      <td>25</td>\n",
       "      <td>Angels Life</td>\n",
       "      <td>A Thoughtful Display of a Woman And a Astronau...</td>\n",
       "      <td>2006</td>\n",
       "      <td>1</td>\n",
       "      <td>3</td>\n",
       "      <td>2.99</td>\n",
       "      <td>74</td>\n",
       "      <td>15.99</td>\n",
       "      <td>G</td>\n",
       "      <td>2013-05-26 14:50:58.951</td>\n",
       "      <td>{Trailers}</td>\n",
       "      <td>'angel':1 'astronaut':11 'battl':14 'berlin':1...</td>\n",
       "      <td>2006-02-15 10:05:03</td>\n",
       "    </tr>\n",
       "    <tr>\n",
       "      <th>3</th>\n",
       "      <td>1</td>\n",
       "      <td>Penelope</td>\n",
       "      <td>Guiness</td>\n",
       "      <td>2013-05-26 14:47:57.62</td>\n",
       "      <td>106</td>\n",
       "      <td>Bulworth Commandments</td>\n",
       "      <td>A Amazing Display of a Mad Cow And a Pioneer w...</td>\n",
       "      <td>2006</td>\n",
       "      <td>1</td>\n",
       "      <td>4</td>\n",
       "      <td>2.99</td>\n",
       "      <td>61</td>\n",
       "      <td>14.99</td>\n",
       "      <td>G</td>\n",
       "      <td>2013-05-26 14:50:58.951</td>\n",
       "      <td>{Trailers}</td>\n",
       "      <td>'amaz':4 'bulworth':1 'command':2 'cow':9 'dis...</td>\n",
       "      <td>2006-02-15 10:05:03</td>\n",
       "    </tr>\n",
       "    <tr>\n",
       "      <th>4</th>\n",
       "      <td>1</td>\n",
       "      <td>Penelope</td>\n",
       "      <td>Guiness</td>\n",
       "      <td>2013-05-26 14:47:57.62</td>\n",
       "      <td>140</td>\n",
       "      <td>Cheaper Clyde</td>\n",
       "      <td>A Emotional Character Study of a Pioneer And a...</td>\n",
       "      <td>2006</td>\n",
       "      <td>1</td>\n",
       "      <td>6</td>\n",
       "      <td>0.99</td>\n",
       "      <td>87</td>\n",
       "      <td>23.99</td>\n",
       "      <td>G</td>\n",
       "      <td>2013-05-26 14:50:58.951</td>\n",
       "      <td>{Trailers,Commentaries,\"Behind the Scenes\"}</td>\n",
       "      <td>'ancient':19 'charact':5 'cheaper':1 'clyde':2...</td>\n",
       "      <td>2006-02-15 10:05:03</td>\n",
       "    </tr>\n",
       "  </tbody>\n",
       "</table>\n",
       "</div>"
      ],
      "text/plain": [
       "   actor_id first_name last_name             last_update  film_id  \\\n",
       "0         1   Penelope   Guiness  2013-05-26 14:47:57.62        1   \n",
       "1         1   Penelope   Guiness  2013-05-26 14:47:57.62       23   \n",
       "2         1   Penelope   Guiness  2013-05-26 14:47:57.62       25   \n",
       "3         1   Penelope   Guiness  2013-05-26 14:47:57.62      106   \n",
       "4         1   Penelope   Guiness  2013-05-26 14:47:57.62      140   \n",
       "\n",
       "                   title                                        description  \\\n",
       "0       Academy Dinosaur  A Epic Drama of a Feminist And a Mad Scientist...   \n",
       "1   Anaconda Confessions  A Lacklusture Display of a Dentist And a Denti...   \n",
       "2            Angels Life  A Thoughtful Display of a Woman And a Astronau...   \n",
       "3  Bulworth Commandments  A Amazing Display of a Mad Cow And a Pioneer w...   \n",
       "4          Cheaper Clyde  A Emotional Character Study of a Pioneer And a...   \n",
       "\n",
       "   release_year  language_id  rental_duration  rental_rate  length  \\\n",
       "0          2006            1                6         0.99      86   \n",
       "1          2006            1                3         0.99      92   \n",
       "2          2006            1                3         2.99      74   \n",
       "3          2006            1                4         2.99      61   \n",
       "4          2006            1                6         0.99      87   \n",
       "\n",
       "   replacement_cost rating           last_update_x  \\\n",
       "0             20.99     PG 2013-05-26 14:50:58.951   \n",
       "1              9.99      R 2013-05-26 14:50:58.951   \n",
       "2             15.99      G 2013-05-26 14:50:58.951   \n",
       "3             14.99      G 2013-05-26 14:50:58.951   \n",
       "4             23.99      G 2013-05-26 14:50:58.951   \n",
       "\n",
       "                              special_features  \\\n",
       "0       {\"Deleted Scenes\",\"Behind the Scenes\"}   \n",
       "1                  {Trailers,\"Deleted Scenes\"}   \n",
       "2                                   {Trailers}   \n",
       "3                                   {Trailers}   \n",
       "4  {Trailers,Commentaries,\"Behind the Scenes\"}   \n",
       "\n",
       "                                            fulltext        last_update_y  \n",
       "0  'academi':1 'battl':15 'canadian':20 'dinosaur...  2006-02-15 10:05:03  \n",
       "1  'anaconda':1 'australia':18 'confess':2 'denti...  2006-02-15 10:05:03  \n",
       "2  'angel':1 'astronaut':11 'battl':14 'berlin':1...  2006-02-15 10:05:03  \n",
       "3  'amaz':4 'bulworth':1 'command':2 'cow':9 'dis...  2006-02-15 10:05:03  \n",
       "4  'ancient':19 'charact':5 'cheaper':1 'clyde':2...  2006-02-15 10:05:03  "
      ]
     },
     "execution_count": 189,
     "metadata": {},
     "output_type": "execute_result"
    }
   ],
   "source": [
    "merged_df.head()"
   ]
  },
  {
   "cell_type": "code",
   "execution_count": 190,
   "id": "3b9324c0",
   "metadata": {},
   "outputs": [
    {
     "data": {
      "text/plain": [
       "(5462, 18)"
      ]
     },
     "execution_count": 190,
     "metadata": {},
     "output_type": "execute_result"
    }
   ],
   "source": [
    "merged_df.shape"
   ]
  },
  {
   "cell_type": "code",
   "execution_count": 191,
   "id": "dc905356",
   "metadata": {},
   "outputs": [
    {
     "name": "stdout",
     "output_type": "stream",
     "text": [
      "<class 'pandas.core.frame.DataFrame'>\n",
      "Int64Index: 5462 entries, 0 to 5461\n",
      "Data columns (total 18 columns):\n",
      " #   Column            Non-Null Count  Dtype         \n",
      "---  ------            --------------  -----         \n",
      " 0   actor_id          5462 non-null   int64         \n",
      " 1   first_name        5462 non-null   object        \n",
      " 2   last_name         5462 non-null   object        \n",
      " 3   last_update       5462 non-null   object        \n",
      " 4   film_id           5462 non-null   int64         \n",
      " 5   title             5462 non-null   object        \n",
      " 6   description       5462 non-null   object        \n",
      " 7   release_year      5462 non-null   int64         \n",
      " 8   language_id       5462 non-null   int64         \n",
      " 9   rental_duration   5462 non-null   int64         \n",
      " 10  rental_rate       5462 non-null   float64       \n",
      " 11  length            5462 non-null   int64         \n",
      " 12  replacement_cost  5462 non-null   float64       \n",
      " 13  rating            5462 non-null   object        \n",
      " 14  last_update_x     5462 non-null   datetime64[ns]\n",
      " 15  special_features  5462 non-null   object        \n",
      " 16  fulltext          5462 non-null   object        \n",
      " 17  last_update_y     5462 non-null   object        \n",
      "dtypes: datetime64[ns](1), float64(2), int64(6), object(9)\n",
      "memory usage: 810.8+ KB\n"
     ]
    }
   ],
   "source": [
    "merged_df.info()"
   ]
  },
  {
   "cell_type": "code",
   "execution_count": 198,
   "id": "bd157b83",
   "metadata": {},
   "outputs": [
    {
     "data": {
      "text/plain": [
       "1409                 Cause Date\n",
       "2832    Entrapment Satisfaction\n",
       "2849            Virginian Pluto\n",
       "Name: title, dtype: object"
      ]
     },
     "execution_count": 198,
     "metadata": {},
     "output_type": "execute_result"
    }
   ],
   "source": [
    "merged_df[(merged_df['first_name']=='Penelope') & (merged_df['rating']=='R')&(merged_df['length']>160)]['title']"
   ]
  },
  {
   "cell_type": "code",
   "execution_count": null,
   "id": "1cd38308",
   "metadata": {},
   "outputs": [],
   "source": [
    "## We have merged all the three dataframes and now we are able to perform differenct operations.."
   ]
  },
  {
   "cell_type": "code",
   "execution_count": null,
   "id": "6e1efe73",
   "metadata": {},
   "outputs": [],
   "source": []
  },
  {
   "cell_type": "code",
   "execution_count": null,
   "id": "f5ba6fe2",
   "metadata": {},
   "outputs": [],
   "source": []
  },
  {
   "cell_type": "code",
   "execution_count": null,
   "id": "ae67766c",
   "metadata": {},
   "outputs": [],
   "source": []
  }
 ],
 "metadata": {
  "kernelspec": {
   "display_name": "Python 3 (ipykernel)",
   "language": "python",
   "name": "python3"
  },
  "language_info": {
   "codemirror_mode": {
    "name": "ipython",
    "version": 3
   },
   "file_extension": ".py",
   "mimetype": "text/x-python",
   "name": "python",
   "nbconvert_exporter": "python",
   "pygments_lexer": "ipython3",
   "version": "3.9.7"
  }
 },
 "nbformat": 4,
 "nbformat_minor": 5
}
